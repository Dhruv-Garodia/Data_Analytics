{
  "cells": [
    {
      "cell_type": "code",
      "source": [
        "pip install mlrose"
      ],
      "metadata": {
        "colab": {
          "base_uri": "https://localhost:8080/"
        },
        "id": "flapkC-OwqHm",
        "outputId": "7840976a-6987-4b45-ee4b-27625fea4f88"
      },
      "id": "flapkC-OwqHm",
      "execution_count": 2,
      "outputs": [
        {
          "output_type": "stream",
          "name": "stdout",
          "text": [
            "Looking in indexes: https://pypi.org/simple, https://us-python.pkg.dev/colab-wheels/public/simple/\n",
            "Collecting mlrose\n",
            "  Downloading mlrose-1.3.0-py3-none-any.whl (27 kB)\n",
            "Collecting sklearn\n",
            "  Downloading sklearn-0.0.post1.tar.gz (3.6 kB)\n",
            "Requirement already satisfied: numpy in /usr/local/lib/python3.7/dist-packages (from mlrose) (1.21.6)\n",
            "Requirement already satisfied: scipy in /usr/local/lib/python3.7/dist-packages (from mlrose) (1.7.3)\n",
            "Building wheels for collected packages: sklearn\n",
            "  Building wheel for sklearn (setup.py) ... \u001b[?25l\u001b[?25hdone\n",
            "  Created wheel for sklearn: filename=sklearn-0.0.post1-py3-none-any.whl size=2344 sha256=8b6a7d49047e0ef3c9be510a7789115e0f4678fb4b16cc4aa693af74fa904246\n",
            "  Stored in directory: /root/.cache/pip/wheels/42/56/cc/4a8bf86613aafd5b7f1b310477667c1fca5c51c3ae4124a003\n",
            "Successfully built sklearn\n",
            "Installing collected packages: sklearn, mlrose\n",
            "Successfully installed mlrose-1.3.0 sklearn-0.0.post1\n"
          ]
        }
      ]
    },
    {
      "cell_type": "code",
      "source": [
        "pip install skfeature-chappers"
      ],
      "metadata": {
        "colab": {
          "base_uri": "https://localhost:8080/"
        },
        "id": "94z1elX87pjF",
        "outputId": "59f82150-f0fb-4b2b-ca00-5f15cf87d7e0"
      },
      "id": "94z1elX87pjF",
      "execution_count": 3,
      "outputs": [
        {
          "output_type": "stream",
          "name": "stdout",
          "text": [
            "Looking in indexes: https://pypi.org/simple, https://us-python.pkg.dev/colab-wheels/public/simple/\n",
            "Collecting skfeature-chappers\n",
            "  Downloading skfeature_chappers-1.1.0-py3-none-any.whl (66 kB)\n",
            "\u001b[?25l\r\u001b[K     |█████                           | 10 kB 20.1 MB/s eta 0:00:01\r\u001b[K     |█████████▉                      | 20 kB 15.7 MB/s eta 0:00:01\r\u001b[K     |██████████████▉                 | 30 kB 20.7 MB/s eta 0:00:01\r\u001b[K     |███████████████████▊            | 40 kB 16.9 MB/s eta 0:00:01\r\u001b[K     |████████████████████████▊       | 51 kB 14.9 MB/s eta 0:00:01\r\u001b[K     |█████████████████████████████▋  | 61 kB 17.2 MB/s eta 0:00:01\r\u001b[K     |████████████████████████████████| 66 kB 3.4 MB/s \n",
            "\u001b[?25hRequirement already satisfied: numpy in /usr/local/lib/python3.7/dist-packages (from skfeature-chappers) (1.21.6)\n",
            "Requirement already satisfied: scikit-learn in /usr/local/lib/python3.7/dist-packages (from skfeature-chappers) (1.0.2)\n",
            "Requirement already satisfied: pandas in /usr/local/lib/python3.7/dist-packages (from skfeature-chappers) (1.3.5)\n",
            "Requirement already satisfied: pytz>=2017.3 in /usr/local/lib/python3.7/dist-packages (from pandas->skfeature-chappers) (2022.6)\n",
            "Requirement already satisfied: python-dateutil>=2.7.3 in /usr/local/lib/python3.7/dist-packages (from pandas->skfeature-chappers) (2.8.2)\n",
            "Requirement already satisfied: six>=1.5 in /usr/local/lib/python3.7/dist-packages (from python-dateutil>=2.7.3->pandas->skfeature-chappers) (1.15.0)\n",
            "Requirement already satisfied: threadpoolctl>=2.0.0 in /usr/local/lib/python3.7/dist-packages (from scikit-learn->skfeature-chappers) (3.1.0)\n",
            "Requirement already satisfied: scipy>=1.1.0 in /usr/local/lib/python3.7/dist-packages (from scikit-learn->skfeature-chappers) (1.7.3)\n",
            "Requirement already satisfied: joblib>=0.11 in /usr/local/lib/python3.7/dist-packages (from scikit-learn->skfeature-chappers) (1.2.0)\n",
            "Installing collected packages: skfeature-chappers\n",
            "Successfully installed skfeature-chappers-1.1.0\n"
          ]
        }
      ]
    },
    {
      "cell_type": "code",
      "source": [
        "import six\n",
        "import sys\n",
        "sys.modules['sklearn.externals.six'] = six\n",
        "import mlrose\n",
        "import joblib\n",
        "sys.modules['sklearn.externals.joblib'] = joblib"
      ],
      "metadata": {
        "id": "uyUIjME37H_t"
      },
      "id": "uyUIjME37H_t",
      "execution_count": 4,
      "outputs": []
    },
    {
      "cell_type": "code",
      "execution_count": 5,
      "id": "f88063fd",
      "metadata": {
        "id": "f88063fd"
      },
      "outputs": [],
      "source": [
        "import pandas as pd\n",
        "import matplotlib.pyplot as plt\n",
        "import seaborn as sns\n",
        "import numpy as np\n",
        "from sklearn.feature_selection import SelectKBest, chi2\n",
        "from skfeature.function.similarity_based import fisher_score\n",
        "# from mlxtend.feature_selection import ExhaustiveFeatureSelector\n",
        "from sklearn.svm import SVC\n",
        "from sklearn.ensemble import RandomForestClassifier,RandomForestRegressor\n",
        "import tensorflow as tf\n",
        "from tensorflow import keras\n",
        "from tensorflow.keras import layers\n",
        "from xgboost import XGBClassifier\n",
        "from sklearn.preprocessing import LabelEncoder\n",
        "from sklearn.linear_model import LogisticRegression\n",
        "from sklearn.metrics import classification_report,confusion_matrix,accuracy_score\n",
        "from sklearn.model_selection import GridSearchCV, cross_val_score, train_test_split"
      ]
    },
    {
      "cell_type": "code",
      "source": [
        "from google.colab import drive\n",
        "drive.mount('/content/drive')"
      ],
      "metadata": {
        "colab": {
          "base_uri": "https://localhost:8080/"
        },
        "id": "X87tWGWJ11d4",
        "outputId": "313e1946-96a6-4dde-a8b2-c96155a6421e"
      },
      "id": "X87tWGWJ11d4",
      "execution_count": 6,
      "outputs": [
        {
          "output_type": "stream",
          "name": "stdout",
          "text": [
            "Mounted at /content/drive\n"
          ]
        }
      ]
    },
    {
      "cell_type": "code",
      "execution_count": 9,
      "id": "4ce1b9b7",
      "metadata": {
        "colab": {
          "base_uri": "https://localhost:8080/",
          "height": 517
        },
        "id": "4ce1b9b7",
        "outputId": "e432be62-f9f0-42ff-a4a9-e3cc876bba06"
      },
      "outputs": [
        {
          "output_type": "execute_result",
          "data": {
            "text/plain": [
              "      Label   type  fixed acidity  volatile acidity  citric acid  \\\n",
              "0         0  white            7.0             0.270         0.36   \n",
              "1         0  white            6.3             0.300         0.34   \n",
              "2         0  white            8.1             0.280         0.40   \n",
              "3         0  white            7.2             0.230         0.32   \n",
              "4         0  white            7.2             0.230         0.32   \n",
              "...     ...    ...            ...               ...          ...   \n",
              "6492      1    red            6.2             0.600         0.08   \n",
              "6493      1    red            5.9             0.550         0.10   \n",
              "6494      1    red            6.3             0.510         0.13   \n",
              "6495      1    red            5.9             0.645         0.12   \n",
              "6496      1    red            6.0             0.310         0.47   \n",
              "\n",
              "      residual sugar  chlorides  free sulfur dioxide  total sulfur dioxide  \\\n",
              "0               20.7      0.045                 45.0                 170.0   \n",
              "1                1.6      0.049                 14.0                 132.0   \n",
              "2                6.9      0.050                 30.0                  97.0   \n",
              "3                8.5      0.058                 47.0                 186.0   \n",
              "4                8.5      0.058                 47.0                 186.0   \n",
              "...              ...        ...                  ...                   ...   \n",
              "6492             2.0      0.090                 32.0                  44.0   \n",
              "6493             2.2      0.062                 39.0                  51.0   \n",
              "6494             2.3      0.076                 29.0                  40.0   \n",
              "6495             2.0      0.075                 32.0                  44.0   \n",
              "6496             3.6      0.067                 18.0                  42.0   \n",
              "\n",
              "      density    pH  sulphates  alcohol  quality  \n",
              "0     1.00100  3.00       0.45      8.8        6  \n",
              "1     0.99400  3.30       0.49      9.5        6  \n",
              "2     0.99510  3.26       0.44     10.1        6  \n",
              "3     0.99560  3.19       0.40      9.9        6  \n",
              "4     0.99560  3.19       0.40      9.9        6  \n",
              "...       ...   ...        ...      ...      ...  \n",
              "6492  0.99490  3.45       0.58     10.5        5  \n",
              "6493  0.99512  3.52       0.76     11.2        6  \n",
              "6494  0.99574  3.42       0.75     11.0        6  \n",
              "6495  0.99547  3.57       0.71     10.2        5  \n",
              "6496  0.99549  3.39       0.66     11.0        6  \n",
              "\n",
              "[6497 rows x 14 columns]"
            ],
            "text/html": [
              "\n",
              "  <div id=\"df-a8e5fef2-17e0-44a7-a7bb-5dff0eccc16f\">\n",
              "    <div class=\"colab-df-container\">\n",
              "      <div>\n",
              "<style scoped>\n",
              "    .dataframe tbody tr th:only-of-type {\n",
              "        vertical-align: middle;\n",
              "    }\n",
              "\n",
              "    .dataframe tbody tr th {\n",
              "        vertical-align: top;\n",
              "    }\n",
              "\n",
              "    .dataframe thead th {\n",
              "        text-align: right;\n",
              "    }\n",
              "</style>\n",
              "<table border=\"1\" class=\"dataframe\">\n",
              "  <thead>\n",
              "    <tr style=\"text-align: right;\">\n",
              "      <th></th>\n",
              "      <th>Label</th>\n",
              "      <th>type</th>\n",
              "      <th>fixed acidity</th>\n",
              "      <th>volatile acidity</th>\n",
              "      <th>citric acid</th>\n",
              "      <th>residual sugar</th>\n",
              "      <th>chlorides</th>\n",
              "      <th>free sulfur dioxide</th>\n",
              "      <th>total sulfur dioxide</th>\n",
              "      <th>density</th>\n",
              "      <th>pH</th>\n",
              "      <th>sulphates</th>\n",
              "      <th>alcohol</th>\n",
              "      <th>quality</th>\n",
              "    </tr>\n",
              "  </thead>\n",
              "  <tbody>\n",
              "    <tr>\n",
              "      <th>0</th>\n",
              "      <td>0</td>\n",
              "      <td>white</td>\n",
              "      <td>7.0</td>\n",
              "      <td>0.270</td>\n",
              "      <td>0.36</td>\n",
              "      <td>20.7</td>\n",
              "      <td>0.045</td>\n",
              "      <td>45.0</td>\n",
              "      <td>170.0</td>\n",
              "      <td>1.00100</td>\n",
              "      <td>3.00</td>\n",
              "      <td>0.45</td>\n",
              "      <td>8.8</td>\n",
              "      <td>6</td>\n",
              "    </tr>\n",
              "    <tr>\n",
              "      <th>1</th>\n",
              "      <td>0</td>\n",
              "      <td>white</td>\n",
              "      <td>6.3</td>\n",
              "      <td>0.300</td>\n",
              "      <td>0.34</td>\n",
              "      <td>1.6</td>\n",
              "      <td>0.049</td>\n",
              "      <td>14.0</td>\n",
              "      <td>132.0</td>\n",
              "      <td>0.99400</td>\n",
              "      <td>3.30</td>\n",
              "      <td>0.49</td>\n",
              "      <td>9.5</td>\n",
              "      <td>6</td>\n",
              "    </tr>\n",
              "    <tr>\n",
              "      <th>2</th>\n",
              "      <td>0</td>\n",
              "      <td>white</td>\n",
              "      <td>8.1</td>\n",
              "      <td>0.280</td>\n",
              "      <td>0.40</td>\n",
              "      <td>6.9</td>\n",
              "      <td>0.050</td>\n",
              "      <td>30.0</td>\n",
              "      <td>97.0</td>\n",
              "      <td>0.99510</td>\n",
              "      <td>3.26</td>\n",
              "      <td>0.44</td>\n",
              "      <td>10.1</td>\n",
              "      <td>6</td>\n",
              "    </tr>\n",
              "    <tr>\n",
              "      <th>3</th>\n",
              "      <td>0</td>\n",
              "      <td>white</td>\n",
              "      <td>7.2</td>\n",
              "      <td>0.230</td>\n",
              "      <td>0.32</td>\n",
              "      <td>8.5</td>\n",
              "      <td>0.058</td>\n",
              "      <td>47.0</td>\n",
              "      <td>186.0</td>\n",
              "      <td>0.99560</td>\n",
              "      <td>3.19</td>\n",
              "      <td>0.40</td>\n",
              "      <td>9.9</td>\n",
              "      <td>6</td>\n",
              "    </tr>\n",
              "    <tr>\n",
              "      <th>4</th>\n",
              "      <td>0</td>\n",
              "      <td>white</td>\n",
              "      <td>7.2</td>\n",
              "      <td>0.230</td>\n",
              "      <td>0.32</td>\n",
              "      <td>8.5</td>\n",
              "      <td>0.058</td>\n",
              "      <td>47.0</td>\n",
              "      <td>186.0</td>\n",
              "      <td>0.99560</td>\n",
              "      <td>3.19</td>\n",
              "      <td>0.40</td>\n",
              "      <td>9.9</td>\n",
              "      <td>6</td>\n",
              "    </tr>\n",
              "    <tr>\n",
              "      <th>...</th>\n",
              "      <td>...</td>\n",
              "      <td>...</td>\n",
              "      <td>...</td>\n",
              "      <td>...</td>\n",
              "      <td>...</td>\n",
              "      <td>...</td>\n",
              "      <td>...</td>\n",
              "      <td>...</td>\n",
              "      <td>...</td>\n",
              "      <td>...</td>\n",
              "      <td>...</td>\n",
              "      <td>...</td>\n",
              "      <td>...</td>\n",
              "      <td>...</td>\n",
              "    </tr>\n",
              "    <tr>\n",
              "      <th>6492</th>\n",
              "      <td>1</td>\n",
              "      <td>red</td>\n",
              "      <td>6.2</td>\n",
              "      <td>0.600</td>\n",
              "      <td>0.08</td>\n",
              "      <td>2.0</td>\n",
              "      <td>0.090</td>\n",
              "      <td>32.0</td>\n",
              "      <td>44.0</td>\n",
              "      <td>0.99490</td>\n",
              "      <td>3.45</td>\n",
              "      <td>0.58</td>\n",
              "      <td>10.5</td>\n",
              "      <td>5</td>\n",
              "    </tr>\n",
              "    <tr>\n",
              "      <th>6493</th>\n",
              "      <td>1</td>\n",
              "      <td>red</td>\n",
              "      <td>5.9</td>\n",
              "      <td>0.550</td>\n",
              "      <td>0.10</td>\n",
              "      <td>2.2</td>\n",
              "      <td>0.062</td>\n",
              "      <td>39.0</td>\n",
              "      <td>51.0</td>\n",
              "      <td>0.99512</td>\n",
              "      <td>3.52</td>\n",
              "      <td>0.76</td>\n",
              "      <td>11.2</td>\n",
              "      <td>6</td>\n",
              "    </tr>\n",
              "    <tr>\n",
              "      <th>6494</th>\n",
              "      <td>1</td>\n",
              "      <td>red</td>\n",
              "      <td>6.3</td>\n",
              "      <td>0.510</td>\n",
              "      <td>0.13</td>\n",
              "      <td>2.3</td>\n",
              "      <td>0.076</td>\n",
              "      <td>29.0</td>\n",
              "      <td>40.0</td>\n",
              "      <td>0.99574</td>\n",
              "      <td>3.42</td>\n",
              "      <td>0.75</td>\n",
              "      <td>11.0</td>\n",
              "      <td>6</td>\n",
              "    </tr>\n",
              "    <tr>\n",
              "      <th>6495</th>\n",
              "      <td>1</td>\n",
              "      <td>red</td>\n",
              "      <td>5.9</td>\n",
              "      <td>0.645</td>\n",
              "      <td>0.12</td>\n",
              "      <td>2.0</td>\n",
              "      <td>0.075</td>\n",
              "      <td>32.0</td>\n",
              "      <td>44.0</td>\n",
              "      <td>0.99547</td>\n",
              "      <td>3.57</td>\n",
              "      <td>0.71</td>\n",
              "      <td>10.2</td>\n",
              "      <td>5</td>\n",
              "    </tr>\n",
              "    <tr>\n",
              "      <th>6496</th>\n",
              "      <td>1</td>\n",
              "      <td>red</td>\n",
              "      <td>6.0</td>\n",
              "      <td>0.310</td>\n",
              "      <td>0.47</td>\n",
              "      <td>3.6</td>\n",
              "      <td>0.067</td>\n",
              "      <td>18.0</td>\n",
              "      <td>42.0</td>\n",
              "      <td>0.99549</td>\n",
              "      <td>3.39</td>\n",
              "      <td>0.66</td>\n",
              "      <td>11.0</td>\n",
              "      <td>6</td>\n",
              "    </tr>\n",
              "  </tbody>\n",
              "</table>\n",
              "<p>6497 rows × 14 columns</p>\n",
              "</div>\n",
              "      <button class=\"colab-df-convert\" onclick=\"convertToInteractive('df-a8e5fef2-17e0-44a7-a7bb-5dff0eccc16f')\"\n",
              "              title=\"Convert this dataframe to an interactive table.\"\n",
              "              style=\"display:none;\">\n",
              "        \n",
              "  <svg xmlns=\"http://www.w3.org/2000/svg\" height=\"24px\"viewBox=\"0 0 24 24\"\n",
              "       width=\"24px\">\n",
              "    <path d=\"M0 0h24v24H0V0z\" fill=\"none\"/>\n",
              "    <path d=\"M18.56 5.44l.94 2.06.94-2.06 2.06-.94-2.06-.94-.94-2.06-.94 2.06-2.06.94zm-11 1L8.5 8.5l.94-2.06 2.06-.94-2.06-.94L8.5 2.5l-.94 2.06-2.06.94zm10 10l.94 2.06.94-2.06 2.06-.94-2.06-.94-.94-2.06-.94 2.06-2.06.94z\"/><path d=\"M17.41 7.96l-1.37-1.37c-.4-.4-.92-.59-1.43-.59-.52 0-1.04.2-1.43.59L10.3 9.45l-7.72 7.72c-.78.78-.78 2.05 0 2.83L4 21.41c.39.39.9.59 1.41.59.51 0 1.02-.2 1.41-.59l7.78-7.78 2.81-2.81c.8-.78.8-2.07 0-2.86zM5.41 20L4 18.59l7.72-7.72 1.47 1.35L5.41 20z\"/>\n",
              "  </svg>\n",
              "      </button>\n",
              "      \n",
              "  <style>\n",
              "    .colab-df-container {\n",
              "      display:flex;\n",
              "      flex-wrap:wrap;\n",
              "      gap: 12px;\n",
              "    }\n",
              "\n",
              "    .colab-df-convert {\n",
              "      background-color: #E8F0FE;\n",
              "      border: none;\n",
              "      border-radius: 50%;\n",
              "      cursor: pointer;\n",
              "      display: none;\n",
              "      fill: #1967D2;\n",
              "      height: 32px;\n",
              "      padding: 0 0 0 0;\n",
              "      width: 32px;\n",
              "    }\n",
              "\n",
              "    .colab-df-convert:hover {\n",
              "      background-color: #E2EBFA;\n",
              "      box-shadow: 0px 1px 2px rgba(60, 64, 67, 0.3), 0px 1px 3px 1px rgba(60, 64, 67, 0.15);\n",
              "      fill: #174EA6;\n",
              "    }\n",
              "\n",
              "    [theme=dark] .colab-df-convert {\n",
              "      background-color: #3B4455;\n",
              "      fill: #D2E3FC;\n",
              "    }\n",
              "\n",
              "    [theme=dark] .colab-df-convert:hover {\n",
              "      background-color: #434B5C;\n",
              "      box-shadow: 0px 1px 3px 1px rgba(0, 0, 0, 0.15);\n",
              "      filter: drop-shadow(0px 1px 2px rgba(0, 0, 0, 0.3));\n",
              "      fill: #FFFFFF;\n",
              "    }\n",
              "  </style>\n",
              "\n",
              "      <script>\n",
              "        const buttonEl =\n",
              "          document.querySelector('#df-a8e5fef2-17e0-44a7-a7bb-5dff0eccc16f button.colab-df-convert');\n",
              "        buttonEl.style.display =\n",
              "          google.colab.kernel.accessAllowed ? 'block' : 'none';\n",
              "\n",
              "        async function convertToInteractive(key) {\n",
              "          const element = document.querySelector('#df-a8e5fef2-17e0-44a7-a7bb-5dff0eccc16f');\n",
              "          const dataTable =\n",
              "            await google.colab.kernel.invokeFunction('convertToInteractive',\n",
              "                                                     [key], {});\n",
              "          if (!dataTable) return;\n",
              "\n",
              "          const docLinkHtml = 'Like what you see? Visit the ' +\n",
              "            '<a target=\"_blank\" href=https://colab.research.google.com/notebooks/data_table.ipynb>data table notebook</a>'\n",
              "            + ' to learn more about interactive tables.';\n",
              "          element.innerHTML = '';\n",
              "          dataTable['output_type'] = 'display_data';\n",
              "          await google.colab.output.renderOutput(dataTable, element);\n",
              "          const docLink = document.createElement('div');\n",
              "          docLink.innerHTML = docLinkHtml;\n",
              "          element.appendChild(docLink);\n",
              "        }\n",
              "      </script>\n",
              "    </div>\n",
              "  </div>\n",
              "  "
            ]
          },
          "metadata": {},
          "execution_count": 9
        }
      ],
      "source": [
        "df = pd.read_csv('drive/MyDrive/Team_DAB/wine-quality-white-and-red.csv')\n",
        "df"
      ]
    },
    {
      "cell_type": "code",
      "execution_count": null,
      "id": "216775f7",
      "metadata": {
        "colab": {
          "base_uri": "https://localhost:8080/"
        },
        "id": "216775f7",
        "outputId": "7a4afbfe-b28f-4061-d23a-6636c7e0056a"
      },
      "outputs": [
        {
          "output_type": "execute_result",
          "data": {
            "text/plain": [
              "0    4898\n",
              "1    1599\n",
              "Name: Label, dtype: int64"
            ]
          },
          "metadata": {},
          "execution_count": 45
        }
      ],
      "source": [
        "df[\"Label\"].value_counts()"
      ]
    },
    {
      "cell_type": "markdown",
      "source": [
        "# DATAFRAME OF  WINE"
      ],
      "metadata": {
        "id": "N0PSsNGf7rb_"
      },
      "id": "N0PSsNGf7rb_"
    },
    {
      "cell_type": "code",
      "execution_count": null,
      "id": "07736b9b",
      "metadata": {
        "colab": {
          "base_uri": "https://localhost:8080/",
          "height": 729
        },
        "id": "07736b9b",
        "outputId": "1097b534-967e-4351-d2a1-3a282bc33b0e"
      },
      "outputs": [
        {
          "output_type": "display_data",
          "data": {
            "text/plain": [
              "<Figure size 1080x720 with 11 Axes>"
            ],
            "image/png": "[encoded data removed]"
          },
          "metadata": {
            "needs_background": "light"
          }
        }
      ],
      "source": [
        "# plt.scatter(df['Label'],df['fixed acidity'])\n",
        "fig = plt.figure(figsize=(15,10))\n",
        "plt.subplot(3,4,1)\n",
        "sns.barplot(x='quality',y='fixed acidity',data=df)\n",
        "plt.subplot(3,4,2)\n",
        "sns.barplot(x='quality',y='volatile acidity',data=df)\n",
        "plt.subplot(3,4,3)\n",
        "sns.barplot(x='quality',y='citric acid',data=df)\n",
        "plt.subplot(3,4,4)\n",
        "sns.barplot(x='quality',y='residual sugar',data=df)\n",
        "plt.subplot(3,4,5)\n",
        "sns.barplot(x='quality',y='chlorides',data=df)\n",
        "plt.subplot(3,4,6)\n",
        "sns.barplot(x='quality',y='free sulfur dioxide',data=df)\n",
        "plt.subplot(3,4,7)\n",
        "sns.barplot(x='quality',y='total sulfur dioxide',data=df)\n",
        "plt.subplot(3,4,8)\n",
        "sns.barplot(x='quality',y='density',data=df)\n",
        "plt.subplot(3,4,9)\n",
        "sns.barplot(x='quality',y='pH',data=df)\n",
        "plt.subplot(3,4,10)\n",
        "sns.barplot(x='quality',y='sulphates',data=df)\n",
        "plt.subplot(3,4,11)\n",
        "sns.barplot(x='quality',y='alcohol',data=df)\n",
        "plt.tight_layout()"
      ]
    },
    {
      "cell_type": "code",
      "execution_count": null,
      "id": "a0490d7b",
      "metadata": {
        "id": "a0490d7b"
      },
      "outputs": [],
      "source": [
        "X = df.loc[:,\"fixed acidity\":\"quality\"]\n",
        "y = df[\"Label\"]"
      ]
    },
    {
      "cell_type": "markdown",
      "source": [
        "# Feature Selection"
      ],
      "metadata": {
        "id": "gtQdwVqwcn6p"
      },
      "id": "gtQdwVqwcn6p"
    },
    {
      "cell_type": "code",
      "execution_count": null,
      "id": "b321bae9",
      "metadata": {
        "id": "b321bae9"
      },
      "outputs": [],
      "source": [
        "##performing feature_selection method ->\n",
        "X_train, X_test, y_train, y_test = train_test_split(X,y,\n",
        "    test_size=0.25,\n",
        "    random_state=42)"
      ]
    },
    {
      "cell_type": "code",
      "execution_count": null,
      "id": "ac7e0c41",
      "metadata": {
        "id": "ac7e0c41"
      },
      "outputs": [],
      "source": [
        "# efs = ExhaustiveFeatureSelector (RandomForestClassifier(),min_features=4,\n",
        "                                # max_features = 8,\n",
        "                                # scoring = \"roc_auc\",\n",
        "                                # cv = 2)"
      ]
    },
    {
      "cell_type": "code",
      "execution_count": null,
      "id": "aa47f2ab",
      "metadata": {
        "id": "aa47f2ab"
      },
      "outputs": [],
      "source": [
        "# efs = efs.fit(X,y)"
      ]
    },
    {
      "cell_type": "code",
      "execution_count": null,
      "id": "5794db03",
      "metadata": {
        "id": "5794db03"
      },
      "outputs": [],
      "source": [
        "# print(efs.best_indx_)"
      ]
    },
    {
      "cell_type": "code",
      "execution_count": null,
      "id": "cbf29fc8",
      "metadata": {
        "id": "cbf29fc8"
      },
      "outputs": [],
      "source": [
        "# imp_feature = X_train.columns[list(efs.best_indx_)]\n",
        "# print(imp_features)"
      ]
    },
    {
      "cell_type": "code",
      "execution_count": null,
      "id": "711ebca8",
      "metadata": {
        "id": "711ebca8"
      },
      "outputs": [],
      "source": [
        "# print(efs.best_score_)"
      ]
    },
    {
      "cell_type": "code",
      "execution_count": null,
      "id": "683d90ca",
      "metadata": {
        "id": "683d90ca"
      },
      "outputs": [],
      "source": [
        "# from sklearn.feature_selection import RFE\n",
        "# rfe = RFE(lr,n_features_to_select=7)\n",
        "# rfe.fit(X,y)\n",
        "# y_pred = rfe.predict(X)"
      ]
    },
    {
      "cell_type": "code",
      "execution_count": null,
      "id": "46c58d86",
      "metadata": {
        "id": "46c58d86"
      },
      "outputs": [],
      "source": [
        "#chlorides has the highest importance = bcz it is not correlated to other features\n",
        "\n",
        "# total sulphur dioxide -> chlorides -> volatile acidity ->\n",
        "# redidual sugar -> free sd (but it is highly corr to total) -> \n",
        "# density -> sulphates -> fixed_acidity."
      ]
    },
    {
      "cell_type": "code",
      "execution_count": null,
      "id": "3947ba26",
      "metadata": {
        "colab": {
          "base_uri": "https://localhost:8080/",
          "height": 282
        },
        "id": "3947ba26",
        "outputId": "f7224b7e-0674-4c89-92fd-cf4bdea4b447"
      },
      "outputs": [
        {
          "output_type": "execute_result",
          "data": {
            "text/plain": [
              "<matplotlib.axes._subplots.AxesSubplot at 0x7f24e8b8a050>"
            ]
          },
          "metadata": {},
          "execution_count": 56
        },
        {
          "output_type": "display_data",
          "data": {
            "text/plain": [
              "<Figure size 432x288 with 1 Axes>"
            ],
            "image/png": "[encoded data removed]"
          },
          "metadata": {
            "needs_background": "light"
          }
        }
      ],
      "source": [
        "#Feature Selection 1 - Information Gain\n",
        "from sklearn.feature_selection import mutual_info_classif\n",
        "importance = mutual_info_classif(X,y)\n",
        "list_of_X_columns=df.columns[2:]\n",
        "feat_importance = pd.Series(importance, list_of_X_columns)\n",
        "feat_importance.plot(kind='barh', color='red')"
      ]
    },
    {
      "cell_type": "code",
      "source": [
        "# running the k-best feature selection method on the acheived output from Informatioin Gain - Feature Selection under Filter Method\n",
        "from sklearn.feature_selection import SelectKBest\n",
        "sel_five_cols = SelectKBest(mutual_info_classif, k=7)\n",
        "sel_five_cols.fit(X_train, y_train)\n",
        "X_train.columns[sel_five_cols.get_support()]"
      ],
      "metadata": {
        "colab": {
          "base_uri": "https://localhost:8080/"
        },
        "id": "ihWturqk_kZP",
        "outputId": "affee6c1-1e18-4dd9-f28b-4238590e4648"
      },
      "id": "ihWturqk_kZP",
      "execution_count": null,
      "outputs": [
        {
          "output_type": "execute_result",
          "data": {
            "text/plain": [
              "Index(['volatile acidity', 'residual sugar', 'chlorides',\n",
              "       'free sulfur dioxide', 'total sulfur dioxide', 'density', 'sulphates'],\n",
              "      dtype='object')"
            ]
          },
          "metadata": {},
          "execution_count": 57
        }
      ]
    },
    {
      "cell_type": "markdown",
      "source": [
        "\n",
        "*   Features after running k-best --> \n",
        "- [ ] Volatile acidity\n",
        "- [ ] Residual sugar\n",
        "- [ ] Chloride\n",
        "- [ ] Free Sulphur Dioxide\n",
        "- [ ] Total Sulphur Dioxide\n",
        "- [ ] Density\n",
        "- [ ] Sulphates\n",
        "\n",
        "\n"
      ],
      "metadata": {
        "id": "pBjwU1rwE6Ty"
      },
      "id": "pBjwU1rwE6Ty"
    },
    {
      "cell_type": "code",
      "execution_count": null,
      "id": "bbbfd490",
      "metadata": {
        "id": "bbbfd490"
      },
      "outputs": [],
      "source": [
        "#Feature Selection 2 - Random Forest Importance\n",
        "model = RandomForestClassifier(n_estimators=300)\n",
        "model.fit(X,y)\n",
        "imp = model.feature_importances_  "
      ]
    },
    {
      "cell_type": "markdown",
      "source": [
        "*n_estimators = is the number of trees we have in the forest*"
      ],
      "metadata": {
        "id": "1Rf5E0ZQeXnE"
      },
      "id": "1Rf5E0ZQeXnE"
    },
    {
      "cell_type": "code",
      "execution_count": null,
      "id": "b9fc1235",
      "metadata": {
        "colab": {
          "base_uri": "https://localhost:8080/",
          "height": 421
        },
        "id": "b9fc1235",
        "outputId": "63cf8a1a-6ff1-47c9-83ec-eddbd9645bae"
      },
      "outputs": [
        {
          "output_type": "execute_result",
          "data": {
            "text/plain": [
              "                Features  Importances\n",
              "11               quality     0.002785\n",
              "10               alcohol     0.009287\n",
              "2            citric acid     0.015912\n",
              "8                     pH     0.020942\n",
              "0          fixed acidity     0.036673\n",
              "3         residual sugar     0.043037\n",
              "5    free sulfur dioxide     0.057207\n",
              "7                density     0.057964\n",
              "9              sulphates     0.059268\n",
              "1       volatile acidity     0.125034\n",
              "4              chlorides     0.274934\n",
              "6   total sulfur dioxide     0.296958"
            ],
            "text/html": [
              "\n",
              "  <div id=\"df-b6845448-b8b6-436c-9206-39816d0bda66\">\n",
              "    <div class=\"colab-df-container\">\n",
              "      <div>\n",
              "<style scoped>\n",
              "    .dataframe tbody tr th:only-of-type {\n",
              "        vertical-align: middle;\n",
              "    }\n",
              "\n",
              "    .dataframe tbody tr th {\n",
              "        vertical-align: top;\n",
              "    }\n",
              "\n",
              "    .dataframe thead th {\n",
              "        text-align: right;\n",
              "    }\n",
              "</style>\n",
              "<table border=\"1\" class=\"dataframe\">\n",
              "  <thead>\n",
              "    <tr style=\"text-align: right;\">\n",
              "      <th></th>\n",
              "      <th>Features</th>\n",
              "      <th>Importances</th>\n",
              "    </tr>\n",
              "  </thead>\n",
              "  <tbody>\n",
              "    <tr>\n",
              "      <th>11</th>\n",
              "      <td>quality</td>\n",
              "      <td>0.002785</td>\n",
              "    </tr>\n",
              "    <tr>\n",
              "      <th>10</th>\n",
              "      <td>alcohol</td>\n",
              "      <td>0.009287</td>\n",
              "    </tr>\n",
              "    <tr>\n",
              "      <th>2</th>\n",
              "      <td>citric acid</td>\n",
              "      <td>0.015912</td>\n",
              "    </tr>\n",
              "    <tr>\n",
              "      <th>8</th>\n",
              "      <td>pH</td>\n",
              "      <td>0.020942</td>\n",
              "    </tr>\n",
              "    <tr>\n",
              "      <th>0</th>\n",
              "      <td>fixed acidity</td>\n",
              "      <td>0.036673</td>\n",
              "    </tr>\n",
              "    <tr>\n",
              "      <th>3</th>\n",
              "      <td>residual sugar</td>\n",
              "      <td>0.043037</td>\n",
              "    </tr>\n",
              "    <tr>\n",
              "      <th>5</th>\n",
              "      <td>free sulfur dioxide</td>\n",
              "      <td>0.057207</td>\n",
              "    </tr>\n",
              "    <tr>\n",
              "      <th>7</th>\n",
              "      <td>density</td>\n",
              "      <td>0.057964</td>\n",
              "    </tr>\n",
              "    <tr>\n",
              "      <th>9</th>\n",
              "      <td>sulphates</td>\n",
              "      <td>0.059268</td>\n",
              "    </tr>\n",
              "    <tr>\n",
              "      <th>1</th>\n",
              "      <td>volatile acidity</td>\n",
              "      <td>0.125034</td>\n",
              "    </tr>\n",
              "    <tr>\n",
              "      <th>4</th>\n",
              "      <td>chlorides</td>\n",
              "      <td>0.274934</td>\n",
              "    </tr>\n",
              "    <tr>\n",
              "      <th>6</th>\n",
              "      <td>total sulfur dioxide</td>\n",
              "      <td>0.296958</td>\n",
              "    </tr>\n",
              "  </tbody>\n",
              "</table>\n",
              "</div>\n",
              "      <button class=\"colab-df-convert\" onclick=\"convertToInteractive('df-b6845448-b8b6-436c-9206-39816d0bda66')\"\n",
              "              title=\"Convert this dataframe to an interactive table.\"\n",
              "              style=\"display:none;\">\n",
              "        \n",
              "  <svg xmlns=\"http://www.w3.org/2000/svg\" height=\"24px\"viewBox=\"0 0 24 24\"\n",
              "       width=\"24px\">\n",
              "    <path d=\"M0 0h24v24H0V0z\" fill=\"none\"/>\n",
              "    <path d=\"M18.56 5.44l.94 2.06.94-2.06 2.06-.94-2.06-.94-.94-2.06-.94 2.06-2.06.94zm-11 1L8.5 8.5l.94-2.06 2.06-.94-2.06-.94L8.5 2.5l-.94 2.06-2.06.94zm10 10l.94 2.06.94-2.06 2.06-.94-2.06-.94-.94-2.06-.94 2.06-2.06.94z\"/><path d=\"M17.41 7.96l-1.37-1.37c-.4-.4-.92-.59-1.43-.59-.52 0-1.04.2-1.43.59L10.3 9.45l-7.72 7.72c-.78.78-.78 2.05 0 2.83L4 21.41c.39.39.9.59 1.41.59.51 0 1.02-.2 1.41-.59l7.78-7.78 2.81-2.81c.8-.78.8-2.07 0-2.86zM5.41 20L4 18.59l7.72-7.72 1.47 1.35L5.41 20z\"/>\n",
              "  </svg>\n",
              "      </button>\n",
              "      \n",
              "  <style>\n",
              "    .colab-df-container {\n",
              "      display:flex;\n",
              "      flex-wrap:wrap;\n",
              "      gap: 12px;\n",
              "    }\n",
              "\n",
              "    .colab-df-convert {\n",
              "      background-color: #E8F0FE;\n",
              "      border: none;\n",
              "      border-radius: 50%;\n",
              "      cursor: pointer;\n",
              "      display: none;\n",
              "      fill: #1967D2;\n",
              "      height: 32px;\n",
              "      padding: 0 0 0 0;\n",
              "      width: 32px;\n",
              "    }\n",
              "\n",
              "    .colab-df-convert:hover {\n",
              "      background-color: #E2EBFA;\n",
              "      box-shadow: 0px 1px 2px rgba(60, 64, 67, 0.3), 0px 1px 3px 1px rgba(60, 64, 67, 0.15);\n",
              "      fill: #174EA6;\n",
              "    }\n",
              "\n",
              "    [theme=dark] .colab-df-convert {\n",
              "      background-color: #3B4455;\n",
              "      fill: #D2E3FC;\n",
              "    }\n",
              "\n",
              "    [theme=dark] .colab-df-convert:hover {\n",
              "      background-color: #434B5C;\n",
              "      box-shadow: 0px 1px 3px 1px rgba(0, 0, 0, 0.15);\n",
              "      filter: drop-shadow(0px 1px 2px rgba(0, 0, 0, 0.3));\n",
              "      fill: #FFFFFF;\n",
              "    }\n",
              "  </style>\n",
              "\n",
              "      <script>\n",
              "        const buttonEl =\n",
              "          document.querySelector('#df-b6845448-b8b6-436c-9206-39816d0bda66 button.colab-df-convert');\n",
              "        buttonEl.style.display =\n",
              "          google.colab.kernel.accessAllowed ? 'block' : 'none';\n",
              "\n",
              "        async function convertToInteractive(key) {\n",
              "          const element = document.querySelector('#df-b6845448-b8b6-436c-9206-39816d0bda66');\n",
              "          const dataTable =\n",
              "            await google.colab.kernel.invokeFunction('convertToInteractive',\n",
              "                                                     [key], {});\n",
              "          if (!dataTable) return;\n",
              "\n",
              "          const docLinkHtml = 'Like what you see? Visit the ' +\n",
              "            '<a target=\"_blank\" href=https://colab.research.google.com/notebooks/data_table.ipynb>data table notebook</a>'\n",
              "            + ' to learn more about interactive tables.';\n",
              "          element.innerHTML = '';\n",
              "          dataTable['output_type'] = 'display_data';\n",
              "          await google.colab.output.renderOutput(dataTable, element);\n",
              "          const docLink = document.createElement('div');\n",
              "          docLink.innerHTML = docLinkHtml;\n",
              "          element.appendChild(docLink);\n",
              "        }\n",
              "      </script>\n",
              "    </div>\n",
              "  </div>\n",
              "  "
            ]
          },
          "metadata": {},
          "execution_count": 59
        }
      ],
      "source": [
        "final_df = pd.DataFrame({\"Features\":pd.DataFrame(X).columns,\"Importances\":imp})\n",
        "final_df.set_index(\"Importances\")\n",
        "final_df = final_df.sort_values(\"Importances\")\n",
        "final_df"
      ]
    },
    {
      "cell_type": "code",
      "execution_count": null,
      "id": "072960e3",
      "metadata": {
        "colab": {
          "base_uri": "https://localhost:8080/",
          "height": 285
        },
        "id": "072960e3",
        "outputId": "69728f01-eb13-4272-b4ac-b23987e0e81a"
      },
      "outputs": [
        {
          "output_type": "execute_result",
          "data": {
            "text/plain": [
              "<matplotlib.axes._subplots.AxesSubplot at 0x7f24f0a1e650>"
            ]
          },
          "metadata": {},
          "execution_count": 60
        },
        {
          "output_type": "display_data",
          "data": {
            "text/plain": [
              "<Figure size 432x288 with 1 Axes>"
            ],
            "image/png": "[encoded data removed]"
          },
          "metadata": {
            "needs_background": "light"
          }
        }
      ],
      "source": [
        "final_df.plot.bar(color=\"teal\")"
      ]
    },
    {
      "cell_type": "code",
      "source": [
        "#Feature Selection 3 - backward feature elimination\n",
        "from mlxtend.feature_selection import SequentialFeatureSelector as SFS\n",
        "\n",
        "sfs1 = SFS(RandomForestRegressor(), \n",
        "           k_features=7, \n",
        "           forward=False, \n",
        "           floating=False, \n",
        "           verbose=2,\n",
        "           scoring='r2',\n",
        "           cv=3)\n",
        "\n",
        "sfs1 = sfs1.fit(np.array(X_train), y_train)"
      ],
      "metadata": {
        "colab": {
          "base_uri": "https://localhost:8080/"
        },
        "id": "HBrese8IMiJq",
        "outputId": "9597eb69-5cc9-4339-b27b-db616b62caca"
      },
      "id": "HBrese8IMiJq",
      "execution_count": null,
      "outputs": [
        {
          "output_type": "stream",
          "name": "stderr",
          "text": [
            "[Parallel(n_jobs=1)]: Using backend SequentialBackend with 1 concurrent workers.\n",
            "[Parallel(n_jobs=1)]: Done   1 out of   1 | elapsed:    6.6s remaining:    0.0s\n",
            "[Parallel(n_jobs=1)]: Done  12 out of  12 | elapsed:   47.3s finished\n",
            "\n",
            "[2022-11-11 13:03:26] Features: 11/7 -- score: 0.9581281805273032[Parallel(n_jobs=1)]: Using backend SequentialBackend with 1 concurrent workers.\n",
            "[Parallel(n_jobs=1)]: Done   1 out of   1 | elapsed:    3.3s remaining:    0.0s\n",
            "[Parallel(n_jobs=1)]: Done  11 out of  11 | elapsed:   33.8s finished\n",
            "\n",
            "[2022-11-11 13:03:59] Features: 10/7 -- score: 0.9592780561503392[Parallel(n_jobs=1)]: Using backend SequentialBackend with 1 concurrent workers.\n",
            "[Parallel(n_jobs=1)]: Done   1 out of   1 | elapsed:    3.0s remaining:    0.0s\n",
            "[Parallel(n_jobs=1)]: Done  10 out of  10 | elapsed:   28.1s finished\n",
            "\n",
            "[2022-11-11 13:04:28] Features: 9/7 -- score: 0.9600218529467813[Parallel(n_jobs=1)]: Using backend SequentialBackend with 1 concurrent workers.\n",
            "[Parallel(n_jobs=1)]: Done   1 out of   1 | elapsed:    3.2s remaining:    0.0s\n",
            "[Parallel(n_jobs=1)]: Done   9 out of   9 | elapsed:   23.2s finished\n",
            "\n",
            "[2022-11-11 13:04:51] Features: 8/7 -- score: 0.9597513903458746[Parallel(n_jobs=1)]: Using backend SequentialBackend with 1 concurrent workers.\n",
            "[Parallel(n_jobs=1)]: Done   1 out of   1 | elapsed:    2.4s remaining:    0.0s\n",
            "[Parallel(n_jobs=1)]: Done   8 out of   8 | elapsed:   19.0s finished\n",
            "\n",
            "[2022-11-11 13:05:10] Features: 7/7 -- score: 0.9599163385993582"
          ]
        }
      ]
    },
    {
      "cell_type": "markdown",
      "source": [
        "## We have applied k-best feature selection upon the Backward Feature Elimination Method"
      ],
      "metadata": {
        "id": "TesUmCbijPUi"
      },
      "id": "TesUmCbijPUi"
    },
    {
      "cell_type": "code",
      "source": [
        "sfs1.k_feature_idx_"
      ],
      "metadata": {
        "colab": {
          "base_uri": "https://localhost:8080/"
        },
        "id": "Tyxx09Hn_oQi",
        "outputId": "d1b7f342-b195-4965-a1e5-8533f629e099"
      },
      "id": "Tyxx09Hn_oQi",
      "execution_count": null,
      "outputs": [
        {
          "output_type": "execute_result",
          "data": {
            "text/plain": [
              "(1, 3, 4, 6, 7, 8, 11)"
            ]
          },
          "metadata": {},
          "execution_count": 62
        }
      ]
    },
    {
      "cell_type": "markdown",
      "source": [
        "## found the index of the relevant and important columns, using them to print the names"
      ],
      "metadata": {
        "id": "QXe2DXFxjiFC"
      },
      "id": "QXe2DXFxjiFC"
    },
    {
      "cell_type": "code",
      "source": [
        "X_train.columns[list(sfs1.k_feature_idx_)]"
      ],
      "metadata": {
        "colab": {
          "base_uri": "https://localhost:8080/"
        },
        "id": "AKoC3EPU_oGu",
        "outputId": "d8ef741d-8d87-44b7-cfb7-2875b3ffbba9"
      },
      "id": "AKoC3EPU_oGu",
      "execution_count": null,
      "outputs": [
        {
          "output_type": "execute_result",
          "data": {
            "text/plain": [
              "Index(['volatile acidity', 'residual sugar', 'chlorides',\n",
              "       'total sulfur dioxide', 'density', 'pH', 'quality'],\n",
              "      dtype='object')"
            ]
          },
          "metadata": {},
          "execution_count": 63
        }
      ]
    },
    {
      "cell_type": "markdown",
      "source": [
        "\n",
        "*   Features after running k-best --> \n",
        "- [ ] Fixed acidity\n",
        "- [ ] Volatile acidity\n",
        "- [ ] Residual sugar\n",
        "- [ ] Chloride\n",
        "- [ ] Total Sulphur Dioxide\n",
        "- [ ] Density\n",
        "- [ ] pH\n",
        "\n",
        "\n"
      ],
      "metadata": {
        "id": "IO8UEqH1jrvo"
      },
      "id": "IO8UEqH1jrvo"
    },
    {
      "cell_type": "code",
      "source": [
        "#using our 7 selected features, which are most suitable ->\n",
        "X = X.drop(['pH','quality','citric acid','free sulfur dioxide','fixed acidity'] , axis=1)\n",
        "X"
      ],
      "metadata": {
        "colab": {
          "base_uri": "https://localhost:8080/",
          "height": 419
        },
        "id": "1caW3yVg36xY",
        "outputId": "dbb56253-e7f7-471f-98b7-b3a4265f1b53"
      },
      "id": "1caW3yVg36xY",
      "execution_count": null,
      "outputs": [
        {
          "output_type": "execute_result",
          "data": {
            "text/plain": [
              "      volatile acidity  residual sugar  chlorides  total sulfur dioxide  \\\n",
              "0                0.270            20.7      0.045                 170.0   \n",
              "1                0.300             1.6      0.049                 132.0   \n",
              "2                0.280             6.9      0.050                  97.0   \n",
              "3                0.230             8.5      0.058                 186.0   \n",
              "4                0.230             8.5      0.058                 186.0   \n",
              "...                ...             ...        ...                   ...   \n",
              "6492             0.600             2.0      0.090                  44.0   \n",
              "6493             0.550             2.2      0.062                  51.0   \n",
              "6494             0.510             2.3      0.076                  40.0   \n",
              "6495             0.645             2.0      0.075                  44.0   \n",
              "6496             0.310             3.6      0.067                  42.0   \n",
              "\n",
              "      density  sulphates  alcohol  \n",
              "0     1.00100       0.45      8.8  \n",
              "1     0.99400       0.49      9.5  \n",
              "2     0.99510       0.44     10.1  \n",
              "3     0.99560       0.40      9.9  \n",
              "4     0.99560       0.40      9.9  \n",
              "...       ...        ...      ...  \n",
              "6492  0.99490       0.58     10.5  \n",
              "6493  0.99512       0.76     11.2  \n",
              "6494  0.99574       0.75     11.0  \n",
              "6495  0.99547       0.71     10.2  \n",
              "6496  0.99549       0.66     11.0  \n",
              "\n",
              "[6497 rows x 7 columns]"
            ],
            "text/html": [
              "\n",
              "  <div id=\"df-b4731584-4876-4a87-a5af-cb732e43d0d7\">\n",
              "    <div class=\"colab-df-container\">\n",
              "      <div>\n",
              "<style scoped>\n",
              "    .dataframe tbody tr th:only-of-type {\n",
              "        vertical-align: middle;\n",
              "    }\n",
              "\n",
              "    .dataframe tbody tr th {\n",
              "        vertical-align: top;\n",
              "    }\n",
              "\n",
              "    .dataframe thead th {\n",
              "        text-align: right;\n",
              "    }\n",
              "</style>\n",
              "<table border=\"1\" class=\"dataframe\">\n",
              "  <thead>\n",
              "    <tr style=\"text-align: right;\">\n",
              "      <th></th>\n",
              "      <th>volatile acidity</th>\n",
              "      <th>residual sugar</th>\n",
              "      <th>chlorides</th>\n",
              "      <th>total sulfur dioxide</th>\n",
              "      <th>density</th>\n",
              "      <th>sulphates</th>\n",
              "      <th>alcohol</th>\n",
              "    </tr>\n",
              "  </thead>\n",
              "  <tbody>\n",
              "    <tr>\n",
              "      <th>0</th>\n",
              "      <td>0.270</td>\n",
              "      <td>20.7</td>\n",
              "      <td>0.045</td>\n",
              "      <td>170.0</td>\n",
              "      <td>1.00100</td>\n",
              "      <td>0.45</td>\n",
              "      <td>8.8</td>\n",
              "    </tr>\n",
              "    <tr>\n",
              "      <th>1</th>\n",
              "      <td>0.300</td>\n",
              "      <td>1.6</td>\n",
              "      <td>0.049</td>\n",
              "      <td>132.0</td>\n",
              "      <td>0.99400</td>\n",
              "      <td>0.49</td>\n",
              "      <td>9.5</td>\n",
              "    </tr>\n",
              "    <tr>\n",
              "      <th>2</th>\n",
              "      <td>0.280</td>\n",
              "      <td>6.9</td>\n",
              "      <td>0.050</td>\n",
              "      <td>97.0</td>\n",
              "      <td>0.99510</td>\n",
              "      <td>0.44</td>\n",
              "      <td>10.1</td>\n",
              "    </tr>\n",
              "    <tr>\n",
              "      <th>3</th>\n",
              "      <td>0.230</td>\n",
              "      <td>8.5</td>\n",
              "      <td>0.058</td>\n",
              "      <td>186.0</td>\n",
              "      <td>0.99560</td>\n",
              "      <td>0.40</td>\n",
              "      <td>9.9</td>\n",
              "    </tr>\n",
              "    <tr>\n",
              "      <th>4</th>\n",
              "      <td>0.230</td>\n",
              "      <td>8.5</td>\n",
              "      <td>0.058</td>\n",
              "      <td>186.0</td>\n",
              "      <td>0.99560</td>\n",
              "      <td>0.40</td>\n",
              "      <td>9.9</td>\n",
              "    </tr>\n",
              "    <tr>\n",
              "      <th>...</th>\n",
              "      <td>...</td>\n",
              "      <td>...</td>\n",
              "      <td>...</td>\n",
              "      <td>...</td>\n",
              "      <td>...</td>\n",
              "      <td>...</td>\n",
              "      <td>...</td>\n",
              "    </tr>\n",
              "    <tr>\n",
              "      <th>6492</th>\n",
              "      <td>0.600</td>\n",
              "      <td>2.0</td>\n",
              "      <td>0.090</td>\n",
              "      <td>44.0</td>\n",
              "      <td>0.99490</td>\n",
              "      <td>0.58</td>\n",
              "      <td>10.5</td>\n",
              "    </tr>\n",
              "    <tr>\n",
              "      <th>6493</th>\n",
              "      <td>0.550</td>\n",
              "      <td>2.2</td>\n",
              "      <td>0.062</td>\n",
              "      <td>51.0</td>\n",
              "      <td>0.99512</td>\n",
              "      <td>0.76</td>\n",
              "      <td>11.2</td>\n",
              "    </tr>\n",
              "    <tr>\n",
              "      <th>6494</th>\n",
              "      <td>0.510</td>\n",
              "      <td>2.3</td>\n",
              "      <td>0.076</td>\n",
              "      <td>40.0</td>\n",
              "      <td>0.99574</td>\n",
              "      <td>0.75</td>\n",
              "      <td>11.0</td>\n",
              "    </tr>\n",
              "    <tr>\n",
              "      <th>6495</th>\n",
              "      <td>0.645</td>\n",
              "      <td>2.0</td>\n",
              "      <td>0.075</td>\n",
              "      <td>44.0</td>\n",
              "      <td>0.99547</td>\n",
              "      <td>0.71</td>\n",
              "      <td>10.2</td>\n",
              "    </tr>\n",
              "    <tr>\n",
              "      <th>6496</th>\n",
              "      <td>0.310</td>\n",
              "      <td>3.6</td>\n",
              "      <td>0.067</td>\n",
              "      <td>42.0</td>\n",
              "      <td>0.99549</td>\n",
              "      <td>0.66</td>\n",
              "      <td>11.0</td>\n",
              "    </tr>\n",
              "  </tbody>\n",
              "</table>\n",
              "<p>6497 rows × 7 columns</p>\n",
              "</div>\n",
              "      <button class=\"colab-df-convert\" onclick=\"convertToInteractive('df-b4731584-4876-4a87-a5af-cb732e43d0d7')\"\n",
              "              title=\"Convert this dataframe to an interactive table.\"\n",
              "              style=\"display:none;\">\n",
              "        \n",
              "  <svg xmlns=\"http://www.w3.org/2000/svg\" height=\"24px\"viewBox=\"0 0 24 24\"\n",
              "       width=\"24px\">\n",
              "    <path d=\"M0 0h24v24H0V0z\" fill=\"none\"/>\n",
              "    <path d=\"M18.56 5.44l.94 2.06.94-2.06 2.06-.94-2.06-.94-.94-2.06-.94 2.06-2.06.94zm-11 1L8.5 8.5l.94-2.06 2.06-.94-2.06-.94L8.5 2.5l-.94 2.06-2.06.94zm10 10l.94 2.06.94-2.06 2.06-.94-2.06-.94-.94-2.06-.94 2.06-2.06.94z\"/><path d=\"M17.41 7.96l-1.37-1.37c-.4-.4-.92-.59-1.43-.59-.52 0-1.04.2-1.43.59L10.3 9.45l-7.72 7.72c-.78.78-.78 2.05 0 2.83L4 21.41c.39.39.9.59 1.41.59.51 0 1.02-.2 1.41-.59l7.78-7.78 2.81-2.81c.8-.78.8-2.07 0-2.86zM5.41 20L4 18.59l7.72-7.72 1.47 1.35L5.41 20z\"/>\n",
              "  </svg>\n",
              "      </button>\n",
              "      \n",
              "  <style>\n",
              "    .colab-df-container {\n",
              "      display:flex;\n",
              "      flex-wrap:wrap;\n",
              "      gap: 12px;\n",
              "    }\n",
              "\n",
              "    .colab-df-convert {\n",
              "      background-color: #E8F0FE;\n",
              "      border: none;\n",
              "      border-radius: 50%;\n",
              "      cursor: pointer;\n",
              "      display: none;\n",
              "      fill: #1967D2;\n",
              "      height: 32px;\n",
              "      padding: 0 0 0 0;\n",
              "      width: 32px;\n",
              "    }\n",
              "\n",
              "    .colab-df-convert:hover {\n",
              "      background-color: #E2EBFA;\n",
              "      box-shadow: 0px 1px 2px rgba(60, 64, 67, 0.3), 0px 1px 3px 1px rgba(60, 64, 67, 0.15);\n",
              "      fill: #174EA6;\n",
              "    }\n",
              "\n",
              "    [theme=dark] .colab-df-convert {\n",
              "      background-color: #3B4455;\n",
              "      fill: #D2E3FC;\n",
              "    }\n",
              "\n",
              "    [theme=dark] .colab-df-convert:hover {\n",
              "      background-color: #434B5C;\n",
              "      box-shadow: 0px 1px 3px 1px rgba(0, 0, 0, 0.15);\n",
              "      filter: drop-shadow(0px 1px 2px rgba(0, 0, 0, 0.3));\n",
              "      fill: #FFFFFF;\n",
              "    }\n",
              "  </style>\n",
              "\n",
              "      <script>\n",
              "        const buttonEl =\n",
              "          document.querySelector('#df-b4731584-4876-4a87-a5af-cb732e43d0d7 button.colab-df-convert');\n",
              "        buttonEl.style.display =\n",
              "          google.colab.kernel.accessAllowed ? 'block' : 'none';\n",
              "\n",
              "        async function convertToInteractive(key) {\n",
              "          const element = document.querySelector('#df-b4731584-4876-4a87-a5af-cb732e43d0d7');\n",
              "          const dataTable =\n",
              "            await google.colab.kernel.invokeFunction('convertToInteractive',\n",
              "                                                     [key], {});\n",
              "          if (!dataTable) return;\n",
              "\n",
              "          const docLinkHtml = 'Like what you see? Visit the ' +\n",
              "            '<a target=\"_blank\" href=https://colab.research.google.com/notebooks/data_table.ipynb>data table notebook</a>'\n",
              "            + ' to learn more about interactive tables.';\n",
              "          element.innerHTML = '';\n",
              "          dataTable['output_type'] = 'display_data';\n",
              "          await google.colab.output.renderOutput(dataTable, element);\n",
              "          const docLink = document.createElement('div');\n",
              "          docLink.innerHTML = docLinkHtml;\n",
              "          element.appendChild(docLink);\n",
              "        }\n",
              "      </script>\n",
              "    </div>\n",
              "  </div>\n",
              "  "
            ]
          },
          "metadata": {},
          "execution_count": 64
        }
      ]
    },
    {
      "cell_type": "code",
      "source": [
        "y = df['Label']\n",
        "y"
      ],
      "metadata": {
        "colab": {
          "base_uri": "https://localhost:8080/"
        },
        "id": "GQW1H24336vB",
        "outputId": "912d26db-d322-4b87-e327-bd6d1b7d1b78"
      },
      "id": "GQW1H24336vB",
      "execution_count": null,
      "outputs": [
        {
          "output_type": "execute_result",
          "data": {
            "text/plain": [
              "0       0\n",
              "1       0\n",
              "2       0\n",
              "3       0\n",
              "4       0\n",
              "       ..\n",
              "6492    1\n",
              "6493    1\n",
              "6494    1\n",
              "6495    1\n",
              "6496    1\n",
              "Name: Label, Length: 6497, dtype: int64"
            ]
          },
          "metadata": {},
          "execution_count": 65
        }
      ]
    },
    {
      "cell_type": "markdown",
      "source": [
        "## using the selected features to build our model"
      ],
      "metadata": {
        "id": "FbaxuekEkUEo"
      },
      "id": "FbaxuekEkUEo"
    },
    {
      "cell_type": "code",
      "source": [
        "x_train,x_test,y_train,y_test=train_test_split(X,y,test_size=0.2,random_state=42)"
      ],
      "metadata": {
        "id": "ufD6B39_36sy"
      },
      "id": "ufD6B39_36sy",
      "execution_count": null,
      "outputs": []
    },
    {
      "cell_type": "markdown",
      "source": [
        "initializing our early stopping criteria"
      ],
      "metadata": {
        "id": "-6qE6_Adj7hB"
      },
      "id": "-6qE6_Adj7hB"
    },
    {
      "cell_type": "code",
      "source": [
        "early_stopping = keras.callbacks.EarlyStopping(\n",
        "    patience=5,\n",
        "    min_delta=0.001,\n",
        "    restore_best_weights=True,\n",
        ")"
      ],
      "metadata": {
        "id": "uAEZJ0vB36ls"
      },
      "id": "uAEZJ0vB36ls",
      "execution_count": null,
      "outputs": []
    },
    {
      "cell_type": "markdown",
      "source": [
        "# ANN"
      ],
      "metadata": {
        "id": "QkmpoCBSG5Za"
      },
      "id": "QkmpoCBSG5Za"
    },
    {
      "cell_type": "code",
      "source": [
        "model_ann=tf.keras.Sequential([\n",
        "    layers.Flatten(input_shape=(7, )),\n",
        "    layers.Dense(64,activation='relu'),\n",
        "    layers.Dense(128,activation='relu'),\n",
        "    layers.Dense(128,activation='relu'),\n",
        "    layers.Dense(256,activation='relu'),\n",
        "    layers.Dense(1,activation='sigmoid')\n",
        "])"
      ],
      "metadata": {
        "id": "AEyDQ2RUBgzJ"
      },
      "id": "AEyDQ2RUBgzJ",
      "execution_count": null,
      "outputs": []
    },
    {
      "cell_type": "code",
      "source": [
        "model_ann.summary()"
      ],
      "metadata": {
        "colab": {
          "base_uri": "https://localhost:8080/"
        },
        "id": "UE6LQV_9OJnZ",
        "outputId": "0cd6f6ac-6eb5-4da7-e72c-5938cc1827fa"
      },
      "id": "UE6LQV_9OJnZ",
      "execution_count": null,
      "outputs": [
        {
          "output_type": "stream",
          "name": "stdout",
          "text": [
            "Model: \"sequential_1\"\n",
            "_________________________________________________________________\n",
            " Layer (type)                Output Shape              Param #   \n",
            "=================================================================\n",
            " flatten_1 (Flatten)         (None, 7)                 0         \n",
            "                                                                 \n",
            " dense_5 (Dense)             (None, 64)                512       \n",
            "                                                                 \n",
            " dense_6 (Dense)             (None, 128)               8320      \n",
            "                                                                 \n",
            " dense_7 (Dense)             (None, 128)               16512     \n",
            "                                                                 \n",
            " dense_8 (Dense)             (None, 256)               33024     \n",
            "                                                                 \n",
            " dense_9 (Dense)             (None, 1)                 257       \n",
            "                                                                 \n",
            "=================================================================\n",
            "Total params: 58,625\n",
            "Trainable params: 58,625\n",
            "Non-trainable params: 0\n",
            "_________________________________________________________________\n"
          ]
        }
      ]
    },
    {
      "cell_type": "code",
      "source": [
        "model_ann.compile(\n",
        "    optimizer='adam',\n",
        "    loss='binary_crossentropy',\n",
        "    metrics=[\"accuracy\"]  \n",
        "             )"
      ],
      "metadata": {
        "id": "aEJaDTj0BgxA"
      },
      "id": "aEJaDTj0BgxA",
      "execution_count": null,
      "outputs": []
    },
    {
      "cell_type": "code",
      "source": [
        "model_ann.fit(x_train,y_train,epochs=50,validation_data=(x_test, y_test),\n",
        "    batch_size=10,callbacks=[early_stopping],)"
      ],
      "metadata": {
        "colab": {
          "base_uri": "https://localhost:8080/"
        },
        "id": "Ei6h0M31y13k",
        "outputId": "9a3b4f50-6608-4829-9bff-7f59f5446d3e"
      },
      "id": "Ei6h0M31y13k",
      "execution_count": null,
      "outputs": [
        {
          "output_type": "stream",
          "name": "stdout",
          "text": [
            "Epoch 1/50\n",
            "520/520 [==============================] - 2s 3ms/step - loss: 0.2766 - accuracy: 0.9084 - val_loss: 0.2781 - val_accuracy: 0.9162\n",
            "Epoch 2/50\n",
            "520/520 [==============================] - 2s 3ms/step - loss: 0.2162 - accuracy: 0.9228 - val_loss: 0.2393 - val_accuracy: 0.9131\n",
            "Epoch 3/50\n",
            "520/520 [==============================] - 2s 3ms/step - loss: 0.2079 - accuracy: 0.9253 - val_loss: 0.2291 - val_accuracy: 0.9246\n",
            "Epoch 4/50\n",
            "520/520 [==============================] - 2s 3ms/step - loss: 0.1925 - accuracy: 0.9315 - val_loss: 0.1813 - val_accuracy: 0.9338\n",
            "Epoch 5/50\n",
            "520/520 [==============================] - 2s 3ms/step - loss: 0.1600 - accuracy: 0.9450 - val_loss: 0.1267 - val_accuracy: 0.9600\n",
            "Epoch 6/50\n",
            "520/520 [==============================] - 2s 3ms/step - loss: 0.1326 - accuracy: 0.9579 - val_loss: 0.1067 - val_accuracy: 0.9692\n",
            "Epoch 7/50\n",
            "520/520 [==============================] - 1s 3ms/step - loss: 0.1056 - accuracy: 0.9657 - val_loss: 0.0999 - val_accuracy: 0.9638\n",
            "Epoch 8/50\n",
            "520/520 [==============================] - 2s 3ms/step - loss: 0.0786 - accuracy: 0.9738 - val_loss: 0.0873 - val_accuracy: 0.9754\n",
            "Epoch 9/50\n",
            "520/520 [==============================] - 2s 3ms/step - loss: 0.0920 - accuracy: 0.9717 - val_loss: 0.1123 - val_accuracy: 0.9623\n",
            "Epoch 10/50\n",
            "520/520 [==============================] - 2s 3ms/step - loss: 0.0970 - accuracy: 0.9698 - val_loss: 0.0944 - val_accuracy: 0.9708\n",
            "Epoch 11/50\n",
            "520/520 [==============================] - 1s 3ms/step - loss: 0.0888 - accuracy: 0.9713 - val_loss: 0.1033 - val_accuracy: 0.9685\n",
            "Epoch 12/50\n",
            "520/520 [==============================] - 2s 3ms/step - loss: 0.0897 - accuracy: 0.9715 - val_loss: 0.0800 - val_accuracy: 0.9785\n",
            "Epoch 13/50\n",
            "520/520 [==============================] - 2s 3ms/step - loss: 0.0864 - accuracy: 0.9713 - val_loss: 0.0853 - val_accuracy: 0.9754\n",
            "Epoch 14/50\n",
            "520/520 [==============================] - 1s 3ms/step - loss: 0.0782 - accuracy: 0.9740 - val_loss: 0.0837 - val_accuracy: 0.9762\n",
            "Epoch 15/50\n",
            "520/520 [==============================] - 2s 3ms/step - loss: 0.0747 - accuracy: 0.9771 - val_loss: 0.0854 - val_accuracy: 0.9754\n",
            "Epoch 16/50\n",
            "520/520 [==============================] - 2s 3ms/step - loss: 0.0777 - accuracy: 0.9750 - val_loss: 0.1335 - val_accuracy: 0.9531\n",
            "Epoch 17/50\n",
            "520/520 [==============================] - 2s 3ms/step - loss: 0.0739 - accuracy: 0.9756 - val_loss: 0.1112 - val_accuracy: 0.9769\n"
          ]
        },
        {
          "output_type": "execute_result",
          "data": {
            "text/plain": [
              "<keras.callbacks.History at 0x7f24f0b6c190>"
            ]
          },
          "metadata": {},
          "execution_count": 71
        }
      ]
    },
    {
      "cell_type": "code",
      "source": [
        "y_pred = model_ann.predict(x_test)\n",
        "score, acc = model_ann.evaluate(x_test, y_test,batch_size=10)\n",
        "print('Test score:', score)\n",
        "print('Test accuracy:', acc*100)"
      ],
      "metadata": {
        "colab": {
          "base_uri": "https://localhost:8080/"
        },
        "id": "-uiribP8y104",
        "outputId": "2905e56f-3983-41e0-c8b9-2e8de05530cc"
      },
      "id": "-uiribP8y104",
      "execution_count": null,
      "outputs": [
        {
          "output_type": "stream",
          "name": "stdout",
          "text": [
            "41/41 [==============================] - 0s 2ms/step\n",
            "130/130 [==============================] - 0s 2ms/step - loss: 0.0800 - accuracy: 0.9785\n",
            "Test score: 0.08002085983753204\n",
            "Test accuracy: 97.84615635871887\n"
          ]
        }
      ]
    },
    {
      "cell_type": "code",
      "source": [
        "model_ann.compile(\n",
        "    optimizer='SGD',\n",
        "    loss='binary_crossentropy',\n",
        "    metrics=[\"accuracy\"]\n",
        "             )\n",
        "model_ann.fit(x_train,y_train,epochs=50,validation_data=(x_test, y_test),\n",
        "    batch_size=10,callbacks=[early_stopping],)\n",
        "y_pred = model_ann.predict(x_test)\n",
        "score, acc = model_ann.evaluate(x_test, y_test,batch_size=10)\n",
        "print('Test score:', score)\n",
        "print('Test accuracy:', acc*100)\n",
        "y_pred = model_ann.predict(x_train)\n",
        "score, acc = model_ann.evaluate(x_train, y_train,batch_size=10)\n",
        "print('Train score:', score)\n",
        "print('Train accuracy:', acc*100)"
      ],
      "metadata": {
        "colab": {
          "base_uri": "https://localhost:8080/"
        },
        "id": "5E-eOw1Ky1vm",
        "outputId": "c2f8b3bb-9ac4-4444-c00f-156d1113b249"
      },
      "id": "5E-eOw1Ky1vm",
      "execution_count": null,
      "outputs": [
        {
          "output_type": "stream",
          "name": "stdout",
          "text": [
            "Epoch 1/50\n",
            "520/520 [==============================] - 2s 3ms/step - loss: 0.2775 - accuracy: 0.8869 - val_loss: 0.2526 - val_accuracy: 0.8885\n",
            "Epoch 2/50\n",
            "520/520 [==============================] - 1s 3ms/step - loss: 0.1998 - accuracy: 0.9244 - val_loss: 0.1943 - val_accuracy: 0.9292\n",
            "Epoch 3/50\n",
            "520/520 [==============================] - 2s 3ms/step - loss: 0.1972 - accuracy: 0.9277 - val_loss: 0.2355 - val_accuracy: 0.9185\n",
            "Epoch 4/50\n",
            "520/520 [==============================] - 2s 3ms/step - loss: 0.1987 - accuracy: 0.9273 - val_loss: 0.4663 - val_accuracy: 0.8200\n",
            "Epoch 5/50\n",
            "520/520 [==============================] - 1s 3ms/step - loss: 0.2009 - accuracy: 0.9213 - val_loss: 0.2282 - val_accuracy: 0.9185\n",
            "Epoch 6/50\n",
            "520/520 [==============================] - 2s 3ms/step - loss: 0.1848 - accuracy: 0.9327 - val_loss: 0.1812 - val_accuracy: 0.9354\n",
            "Epoch 7/50\n",
            "520/520 [==============================] - 2s 3ms/step - loss: 0.1858 - accuracy: 0.9307 - val_loss: 0.3645 - val_accuracy: 0.9054\n",
            "Epoch 8/50\n",
            "520/520 [==============================] - 1s 3ms/step - loss: 0.1809 - accuracy: 0.9327 - val_loss: 0.1733 - val_accuracy: 0.9354\n",
            "Epoch 9/50\n",
            "520/520 [==============================] - 2s 3ms/step - loss: 0.1804 - accuracy: 0.9317 - val_loss: 0.1769 - val_accuracy: 0.9308\n",
            "Epoch 10/50\n",
            "520/520 [==============================] - 1s 3ms/step - loss: 0.1773 - accuracy: 0.9315 - val_loss: 0.2128 - val_accuracy: 0.9231\n",
            "Epoch 11/50\n",
            "520/520 [==============================] - 2s 3ms/step - loss: 0.1776 - accuracy: 0.9367 - val_loss: 0.1788 - val_accuracy: 0.9331\n",
            "Epoch 12/50\n",
            "520/520 [==============================] - 1s 3ms/step - loss: 0.2066 - accuracy: 0.9223 - val_loss: 0.1926 - val_accuracy: 0.9269\n",
            "Epoch 13/50\n",
            "520/520 [==============================] - 2s 3ms/step - loss: 0.1949 - accuracy: 0.9282 - val_loss: 0.2159 - val_accuracy: 0.9254\n",
            "41/41 [==============================] - 0s 2ms/step\n",
            "130/130 [==============================] - 0s 2ms/step - loss: 0.1733 - accuracy: 0.9354\n",
            "Test score: 0.17330874502658844\n",
            "Test accuracy: 93.53846311569214\n",
            "163/163 [==============================] - 0s 1ms/step\n",
            "520/520 [==============================] - 1s 2ms/step - loss: 0.1485 - accuracy: 0.9425\n",
            "Train score: 0.1484711915254593\n",
            "Train accuracy: 94.24667954444885\n"
          ]
        }
      ]
    },
    {
      "cell_type": "code",
      "source": [
        "y_pred\n"
      ],
      "metadata": {
        "colab": {
          "base_uri": "https://localhost:8080/"
        },
        "id": "DIUA4dMXy1ns",
        "outputId": "0b0c2297-d209-425f-af56-6e606a6e67f1"
      },
      "id": "DIUA4dMXy1ns",
      "execution_count": null,
      "outputs": [
        {
          "output_type": "execute_result",
          "data": {
            "text/plain": [
              "array([[0.00459789],\n",
              "       [0.01924743],\n",
              "       [0.12701178],\n",
              "       ...,\n",
              "       [0.98942995],\n",
              "       [0.9930603 ],\n",
              "       [0.14295389]], dtype=float32)"
            ]
          },
          "metadata": {},
          "execution_count": 74
        }
      ]
    },
    {
      "cell_type": "markdown",
      "source": [
        "#### SVM"
      ],
      "metadata": {
        "id": "TaV3XDnK3wgu"
      },
      "id": "TaV3XDnK3wgu"
    },
    {
      "cell_type": "code",
      "source": [
        "train_set,test_set = train_test_split(df, train_size=0.75, random_state=1) "
      ],
      "metadata": {
        "id": "lSfDmo55y1lS"
      },
      "id": "lSfDmo55y1lS",
      "execution_count": null,
      "outputs": []
    },
    {
      "cell_type": "code",
      "source": [
        "train_set_X= train_set.loc[:, train_set.columns!='Label']\n",
        "train_set_y=train_set['Label']\n",
        "\n",
        "test_set_X= test_set.loc[:, test_set.columns!='Label']\n",
        "test_set_y=test_set['Label']"
      ],
      "metadata": {
        "id": "FlCOTSZR2Sil"
      },
      "id": "FlCOTSZR2Sil",
      "execution_count": null,
      "outputs": []
    },
    {
      "cell_type": "code",
      "source": [
        "# selecting the rbf kernel\n",
        "classifier = SVC(kernel='rbf', random_state = 1)\n",
        "classifier.fit(x_train,y_train)"
      ],
      "metadata": {
        "colab": {
          "base_uri": "https://localhost:8080/"
        },
        "id": "Cvun5N372Sfo",
        "outputId": "70c5206c-843c-4c76-af21-afedb610ccd7"
      },
      "id": "Cvun5N372Sfo",
      "execution_count": null,
      "outputs": [
        {
          "output_type": "execute_result",
          "data": {
            "text/plain": [
              "SVC(random_state=1)"
            ]
          },
          "metadata": {},
          "execution_count": 77
        }
      ]
    },
    {
      "cell_type": "code",
      "source": [
        "svc_y_pred = classifier.predict(x_test)"
      ],
      "metadata": {
        "id": "YquXJBPQ2ScV"
      },
      "id": "YquXJBPQ2ScV",
      "execution_count": null,
      "outputs": []
    },
    {
      "cell_type": "code",
      "source": [
        "svc_y_pred"
      ],
      "metadata": {
        "id": "ematXrw3weSb",
        "colab": {
          "base_uri": "https://localhost:8080/"
        },
        "outputId": "93083d43-4e10-467e-be8a-58d1fbf13539"
      },
      "id": "ematXrw3weSb",
      "execution_count": null,
      "outputs": [
        {
          "output_type": "execute_result",
          "data": {
            "text/plain": [
              "array([0, 0, 0, ..., 1, 1, 1])"
            ]
          },
          "metadata": {},
          "execution_count": 79
        }
      ]
    },
    {
      "cell_type": "code",
      "source": [
        "cm = confusion_matrix(y_test,svc_y_pred)\n",
        "accuracy = float(cm.diagonal().sum())/len(y_test)\n",
        "print(\"\\nAccuracy for SVM model: \")\n",
        "print(accuracy)"
      ],
      "metadata": {
        "colab": {
          "base_uri": "https://localhost:8080/"
        },
        "id": "Z5k9o7yv2SZ5",
        "outputId": "fbe11a76-671e-4d9d-8a9b-087c20d8fac4"
      },
      "id": "Z5k9o7yv2SZ5",
      "execution_count": null,
      "outputs": [
        {
          "output_type": "stream",
          "name": "stdout",
          "text": [
            "\n",
            "Accuracy for SVM model: \n",
            "0.92\n"
          ]
        }
      ]
    },
    {
      "cell_type": "markdown",
      "source": [
        "#### Logistic Regression"
      ],
      "metadata": {
        "id": "izI0X11Z3rHR"
      },
      "id": "izI0X11Z3rHR"
    },
    {
      "cell_type": "code",
      "source": [
        "lr_model = LogisticRegression()\n",
        "\n",
        "lr_model.fit(x_train, y_train)\n",
        "\n",
        "y_pred = lr_model.predict(x_test)\n",
        "\n",
        "print(\"Training accuracy :\", lr_model.score(x_train, y_train))\n",
        "print(\"Testing accuracy :\", lr_model.score(x_test, y_test))\n",
        "print(classification_report(y_test, y_pred))\n",
        "print(confusion_matrix(y_test, y_pred))"
      ],
      "metadata": {
        "colab": {
          "base_uri": "https://localhost:8080/"
        },
        "id": "UWPZ35mT2SXh",
        "outputId": "b1c2eb15-3915-4625-93b2-6c9a19596e27"
      },
      "id": "UWPZ35mT2SXh",
      "execution_count": null,
      "outputs": [
        {
          "output_type": "stream",
          "name": "stdout",
          "text": [
            "Training accuracy : 0.9769097556282471\n",
            "Testing accuracy : 0.9730769230769231\n",
            "              precision    recall  f1-score   support\n",
            "\n",
            "           0       0.98      0.99      0.98       986\n",
            "           1       0.95      0.93      0.94       314\n",
            "\n",
            "    accuracy                           0.97      1300\n",
            "   macro avg       0.97      0.96      0.96      1300\n",
            "weighted avg       0.97      0.97      0.97      1300\n",
            "\n",
            "[[972  14]\n",
            " [ 21 293]]\n"
          ]
        },
        {
          "output_type": "stream",
          "name": "stderr",
          "text": [
            "/usr/local/lib/python3.7/dist-packages/sklearn/linear_model/_logistic.py:818: ConvergenceWarning: lbfgs failed to converge (status=1):\n",
            "STOP: TOTAL NO. of ITERATIONS REACHED LIMIT.\n",
            "\n",
            "Increase the number of iterations (max_iter) or scale the data as shown in:\n",
            "    https://scikit-learn.org/stable/modules/preprocessing.html\n",
            "Please also refer to the documentation for alternative solver options:\n",
            "    https://scikit-learn.org/stable/modules/linear_model.html#logistic-regression\n",
            "  extra_warning_msg=_LOGISTIC_SOLVER_CONVERGENCE_MSG,\n"
          ]
        }
      ]
    },
    {
      "cell_type": "code",
      "source": [
        "from sklearn import metrics\n",
        "\n",
        "confusion_matrix = metrics.confusion_matrix(y_test, y_pred)\n",
        "\n",
        "cm_display = metrics.ConfusionMatrixDisplay(confusion_matrix = confusion_matrix, display_labels = [0, 1])\n",
        "\n",
        "cm_display.plot()\n",
        "plt.show()\n",
        "print(classification_report(y_test, y_pred))"
      ],
      "metadata": {
        "colab": {
          "base_uri": "https://localhost:8080/",
          "height": 432
        },
        "id": "XJaR97p32vfI",
        "outputId": "7f0c1522-9c6b-4703-ee39-5b5a488b6976"
      },
      "id": "XJaR97p32vfI",
      "execution_count": null,
      "outputs": [
        {
          "output_type": "display_data",
          "data": {
            "text/plain": [
              "<Figure size 432x288 with 2 Axes>"
            ],
            "image/png": "[encoded data removed]"
          },
          "metadata": {
            "needs_background": "light"
          }
        },
        {
          "output_type": "stream",
          "name": "stdout",
          "text": [
            "              precision    recall  f1-score   support\n",
            "\n",
            "           0       0.86      0.95      0.90      1047\n",
            "           1       0.64      0.36      0.46       253\n",
            "\n",
            "    accuracy                           0.84      1300\n",
            "   macro avg       0.75      0.65      0.68      1300\n",
            "weighted avg       0.82      0.84      0.82      1300\n",
            "\n"
          ]
        }
      ]
    },
    {
      "cell_type": "markdown",
      "source": [
        "## XGBOOST"
      ],
      "metadata": {
        "id": "bWQZzBMLNO3o"
      },
      "id": "bWQZzBMLNO3o"
    },
    {
      "cell_type": "markdown",
      "source": [
        "When to Use XGBoost?\n",
        " \n",
        "Consider using XGBoost for any supervised machine learning task when satisfies the following criteria:\n",
        "\n",
        "> -> When you have large number of observations in training data.\n",
        "\n",
        "\n",
        "> -> Number features < number of observations in training data.\n",
        "\n",
        "> -> It performs well when data has mixture numerical and categorical features or just numeric features.\n",
        "\n",
        "> -> When the model performance metrics are to be considered."
      ],
      "metadata": {
        "id": "mql-nzXfQuYH"
      },
      "id": "mql-nzXfQuYH"
    },
    {
      "cell_type": "code",
      "source": [
        "model = XGBClassifier(use_label_encoder=False, eval_metric='mlogloss')"
      ],
      "metadata": {
        "id": "8NivyLX42SVE"
      },
      "id": "8NivyLX42SVE",
      "execution_count": null,
      "outputs": []
    },
    {
      "cell_type": "code",
      "source": [
        "model.fit(x_train, y_train)"
      ],
      "metadata": {
        "colab": {
          "base_uri": "https://localhost:8080/"
        },
        "id": "xAS7gJsH2SSz",
        "outputId": "68e0a60d-5481-47a4-bb92-c2dd81dcef81"
      },
      "id": "xAS7gJsH2SSz",
      "execution_count": null,
      "outputs": [
        {
          "output_type": "execute_result",
          "data": {
            "text/plain": [
              "XGBClassifier(eval_metric='mlogloss', use_label_encoder=False)"
            ]
          },
          "metadata": {},
          "execution_count": 87
        }
      ]
    },
    {
      "cell_type": "code",
      "source": [
        "XGBClassifier(base_score=0.5, booster='gbtree', colsample_bylevel=1,\n",
        "              colsample_bynode=1, colsample_bytree=1, eval_metric='mlogloss',\n",
        "              gamma=0, gpu_id=-1, importance_type='gain',\n",
        "              interaction_constraints='', learning_rate=0.300000012,\n",
        "              max_delta_step=0, max_depth=6, min_child_weight=1, missing=-1,\n",
        "              monotone_constraints='()', n_estimators=100, n_jobs=16,\n",
        "              num_parallel_tree=1, objective='multi:softprob', random_state=0,\n",
        "              reg_alpha=0, reg_lambda=1, scale_pos_weight=None, subsample=1,\n",
        "              tree_method='exact', use_label_encoder=False,\n",
        "              validate_parameters=1, verbosity=None)"
      ],
      "metadata": {
        "colab": {
          "base_uri": "https://localhost:8080/"
        },
        "id": "pu7aB80dN_ix",
        "outputId": "d86ded8d-c523-43dc-f027-1c04dc220d8d"
      },
      "id": "pu7aB80dN_ix",
      "execution_count": null,
      "outputs": [
        {
          "output_type": "execute_result",
          "data": {
            "text/plain": [
              "XGBClassifier(eval_metric='mlogloss', gpu_id=-1, interaction_constraints='',\n",
              "              learning_rate=0.300000012, max_depth=6, missing=-1,\n",
              "              monotone_constraints='()', n_jobs=16, num_parallel_tree=1,\n",
              "              objective='multi:softprob', scale_pos_weight=None,\n",
              "              tree_method='exact', use_label_encoder=False,\n",
              "              validate_parameters=1, verbosity=None)"
            ]
          },
          "metadata": {},
          "execution_count": 88
        }
      ]
    },
    {
      "cell_type": "code",
      "source": [
        "y_pred = model.predict(x_test)"
      ],
      "metadata": {
        "id": "L6kpmWc8N_eY"
      },
      "id": "L6kpmWc8N_eY",
      "execution_count": null,
      "outputs": []
    },
    {
      "cell_type": "code",
      "source": [
        "y_pred"
      ],
      "metadata": {
        "colab": {
          "base_uri": "https://localhost:8080/"
        },
        "id": "8_mt7SiSN_aT",
        "outputId": "14e5d1db-4af6-435d-b48e-416047acc5dc"
      },
      "id": "8_mt7SiSN_aT",
      "execution_count": null,
      "outputs": [
        {
          "output_type": "execute_result",
          "data": {
            "text/plain": [
              "array([0, 0, 0, ..., 1, 1, 1])"
            ]
          },
          "metadata": {},
          "execution_count": 90
        }
      ]
    },
    {
      "cell_type": "code",
      "source": [
        "accuracy = accuracy_score(y_test, y_pred)\n",
        "accuracy"
      ],
      "metadata": {
        "colab": {
          "base_uri": "https://localhost:8080/"
        },
        "id": "z3aWcC6-N_WH",
        "outputId": "83a98d94-d0c0-44e5-913c-29a1c3077608"
      },
      "id": "z3aWcC6-N_WH",
      "execution_count": null,
      "outputs": [
        {
          "output_type": "execute_result",
          "data": {
            "text/plain": [
              "0.9938461538461538"
            ]
          },
          "metadata": {},
          "execution_count": 91
        }
      ]
    },
    {
      "cell_type": "markdown",
      "source": [
        "---\n",
        "\n",
        "# Wine Quality Prediction\n",
        "\n",
        "---\n",
        "\n"
      ],
      "metadata": {
        "id": "pFPaY1CPBMyh"
      },
      "id": "pFPaY1CPBMyh"
    },
    {
      "cell_type": "code",
      "source": [
        "df['goodquality'] = [1 if x >= 7 else 0 for x in df['quality']]\n",
        "df"
      ],
      "metadata": {
        "id": "0BROtgVCN_NL",
        "colab": {
          "base_uri": "https://localhost:8080/",
          "height": 480
        },
        "outputId": "228850b3-37bc-4569-c492-7ea76b54e544"
      },
      "id": "0BROtgVCN_NL",
      "execution_count": null,
      "outputs": [
        {
          "output_type": "execute_result",
          "data": {
            "text/plain": [
              "      Label   type  fixed acidity  volatile acidity  citric acid  \\\n",
              "0         0  white            7.0             0.270         0.36   \n",
              "1         0  white            6.3             0.300         0.34   \n",
              "2         0  white            8.1             0.280         0.40   \n",
              "3         0  white            7.2             0.230         0.32   \n",
              "4         0  white            7.2             0.230         0.32   \n",
              "...     ...    ...            ...               ...          ...   \n",
              "6492      1    red            6.2             0.600         0.08   \n",
              "6493      1    red            5.9             0.550         0.10   \n",
              "6494      1    red            6.3             0.510         0.13   \n",
              "6495      1    red            5.9             0.645         0.12   \n",
              "6496      1    red            6.0             0.310         0.47   \n",
              "\n",
              "      residual sugar  chlorides  free sulfur dioxide  total sulfur dioxide  \\\n",
              "0               20.7      0.045                 45.0                 170.0   \n",
              "1                1.6      0.049                 14.0                 132.0   \n",
              "2                6.9      0.050                 30.0                  97.0   \n",
              "3                8.5      0.058                 47.0                 186.0   \n",
              "4                8.5      0.058                 47.0                 186.0   \n",
              "...              ...        ...                  ...                   ...   \n",
              "6492             2.0      0.090                 32.0                  44.0   \n",
              "6493             2.2      0.062                 39.0                  51.0   \n",
              "6494             2.3      0.076                 29.0                  40.0   \n",
              "6495             2.0      0.075                 32.0                  44.0   \n",
              "6496             3.6      0.067                 18.0                  42.0   \n",
              "\n",
              "      density    pH  sulphates  alcohol  quality  goodquality  \n",
              "0     1.00100  3.00       0.45      8.8        6            0  \n",
              "1     0.99400  3.30       0.49      9.5        6            0  \n",
              "2     0.99510  3.26       0.44     10.1        6            0  \n",
              "3     0.99560  3.19       0.40      9.9        6            0  \n",
              "4     0.99560  3.19       0.40      9.9        6            0  \n",
              "...       ...   ...        ...      ...      ...          ...  \n",
              "6492  0.99490  3.45       0.58     10.5        5            0  \n",
              "6493  0.99512  3.52       0.76     11.2        6            0  \n",
              "6494  0.99574  3.42       0.75     11.0        6            0  \n",
              "6495  0.99547  3.57       0.71     10.2        5            0  \n",
              "6496  0.99549  3.39       0.66     11.0        6            0  \n",
              "\n",
              "[6497 rows x 15 columns]"
            ],
            "text/html": [
              "\n",
              "  <div id=\"df-9e7aec2f-cf90-4d79-b2b1-95ff1e598957\">\n",
              "    <div class=\"colab-df-container\">\n",
              "      <div>\n",
              "<style scoped>\n",
              "    .dataframe tbody tr th:only-of-type {\n",
              "        vertical-align: middle;\n",
              "    }\n",
              "\n",
              "    .dataframe tbody tr th {\n",
              "        vertical-align: top;\n",
              "    }\n",
              "\n",
              "    .dataframe thead th {\n",
              "        text-align: right;\n",
              "    }\n",
              "</style>\n",
              "<table border=\"1\" class=\"dataframe\">\n",
              "  <thead>\n",
              "    <tr style=\"text-align: right;\">\n",
              "      <th></th>\n",
              "      <th>Label</th>\n",
              "      <th>type</th>\n",
              "      <th>fixed acidity</th>\n",
              "      <th>volatile acidity</th>\n",
              "      <th>citric acid</th>\n",
              "      <th>residual sugar</th>\n",
              "      <th>chlorides</th>\n",
              "      <th>free sulfur dioxide</th>\n",
              "      <th>total sulfur dioxide</th>\n",
              "      <th>density</th>\n",
              "      <th>pH</th>\n",
              "      <th>sulphates</th>\n",
              "      <th>alcohol</th>\n",
              "      <th>quality</th>\n",
              "      <th>goodquality</th>\n",
              "    </tr>\n",
              "  </thead>\n",
              "  <tbody>\n",
              "    <tr>\n",
              "      <th>0</th>\n",
              "      <td>0</td>\n",
              "      <td>white</td>\n",
              "      <td>7.0</td>\n",
              "      <td>0.270</td>\n",
              "      <td>0.36</td>\n",
              "      <td>20.7</td>\n",
              "      <td>0.045</td>\n",
              "      <td>45.0</td>\n",
              "      <td>170.0</td>\n",
              "      <td>1.00100</td>\n",
              "      <td>3.00</td>\n",
              "      <td>0.45</td>\n",
              "      <td>8.8</td>\n",
              "      <td>6</td>\n",
              "      <td>0</td>\n",
              "    </tr>\n",
              "    <tr>\n",
              "      <th>1</th>\n",
              "      <td>0</td>\n",
              "      <td>white</td>\n",
              "      <td>6.3</td>\n",
              "      <td>0.300</td>\n",
              "      <td>0.34</td>\n",
              "      <td>1.6</td>\n",
              "      <td>0.049</td>\n",
              "      <td>14.0</td>\n",
              "      <td>132.0</td>\n",
              "      <td>0.99400</td>\n",
              "      <td>3.30</td>\n",
              "      <td>0.49</td>\n",
              "      <td>9.5</td>\n",
              "      <td>6</td>\n",
              "      <td>0</td>\n",
              "    </tr>\n",
              "    <tr>\n",
              "      <th>2</th>\n",
              "      <td>0</td>\n",
              "      <td>white</td>\n",
              "      <td>8.1</td>\n",
              "      <td>0.280</td>\n",
              "      <td>0.40</td>\n",
              "      <td>6.9</td>\n",
              "      <td>0.050</td>\n",
              "      <td>30.0</td>\n",
              "      <td>97.0</td>\n",
              "      <td>0.99510</td>\n",
              "      <td>3.26</td>\n",
              "      <td>0.44</td>\n",
              "      <td>10.1</td>\n",
              "      <td>6</td>\n",
              "      <td>0</td>\n",
              "    </tr>\n",
              "    <tr>\n",
              "      <th>3</th>\n",
              "      <td>0</td>\n",
              "      <td>white</td>\n",
              "      <td>7.2</td>\n",
              "      <td>0.230</td>\n",
              "      <td>0.32</td>\n",
              "      <td>8.5</td>\n",
              "      <td>0.058</td>\n",
              "      <td>47.0</td>\n",
              "      <td>186.0</td>\n",
              "      <td>0.99560</td>\n",
              "      <td>3.19</td>\n",
              "      <td>0.40</td>\n",
              "      <td>9.9</td>\n",
              "      <td>6</td>\n",
              "      <td>0</td>\n",
              "    </tr>\n",
              "    <tr>\n",
              "      <th>4</th>\n",
              "      <td>0</td>\n",
              "      <td>white</td>\n",
              "      <td>7.2</td>\n",
              "      <td>0.230</td>\n",
              "      <td>0.32</td>\n",
              "      <td>8.5</td>\n",
              "      <td>0.058</td>\n",
              "      <td>47.0</td>\n",
              "      <td>186.0</td>\n",
              "      <td>0.99560</td>\n",
              "      <td>3.19</td>\n",
              "      <td>0.40</td>\n",
              "      <td>9.9</td>\n",
              "      <td>6</td>\n",
              "      <td>0</td>\n",
              "    </tr>\n",
              "    <tr>\n",
              "      <th>...</th>\n",
              "      <td>...</td>\n",
              "      <td>...</td>\n",
              "      <td>...</td>\n",
              "      <td>...</td>\n",
              "      <td>...</td>\n",
              "      <td>...</td>\n",
              "      <td>...</td>\n",
              "      <td>...</td>\n",
              "      <td>...</td>\n",
              "      <td>...</td>\n",
              "      <td>...</td>\n",
              "      <td>...</td>\n",
              "      <td>...</td>\n",
              "      <td>...</td>\n",
              "      <td>...</td>\n",
              "    </tr>\n",
              "    <tr>\n",
              "      <th>6492</th>\n",
              "      <td>1</td>\n",
              "      <td>red</td>\n",
              "      <td>6.2</td>\n",
              "      <td>0.600</td>\n",
              "      <td>0.08</td>\n",
              "      <td>2.0</td>\n",
              "      <td>0.090</td>\n",
              "      <td>32.0</td>\n",
              "      <td>44.0</td>\n",
              "      <td>0.99490</td>\n",
              "      <td>3.45</td>\n",
              "      <td>0.58</td>\n",
              "      <td>10.5</td>\n",
              "      <td>5</td>\n",
              "      <td>0</td>\n",
              "    </tr>\n",
              "    <tr>\n",
              "      <th>6493</th>\n",
              "      <td>1</td>\n",
              "      <td>red</td>\n",
              "      <td>5.9</td>\n",
              "      <td>0.550</td>\n",
              "      <td>0.10</td>\n",
              "      <td>2.2</td>\n",
              "      <td>0.062</td>\n",
              "      <td>39.0</td>\n",
              "      <td>51.0</td>\n",
              "      <td>0.99512</td>\n",
              "      <td>3.52</td>\n",
              "      <td>0.76</td>\n",
              "      <td>11.2</td>\n",
              "      <td>6</td>\n",
              "      <td>0</td>\n",
              "    </tr>\n",
              "    <tr>\n",
              "      <th>6494</th>\n",
              "      <td>1</td>\n",
              "      <td>red</td>\n",
              "      <td>6.3</td>\n",
              "      <td>0.510</td>\n",
              "      <td>0.13</td>\n",
              "      <td>2.3</td>\n",
              "      <td>0.076</td>\n",
              "      <td>29.0</td>\n",
              "      <td>40.0</td>\n",
              "      <td>0.99574</td>\n",
              "      <td>3.42</td>\n",
              "      <td>0.75</td>\n",
              "      <td>11.0</td>\n",
              "      <td>6</td>\n",
              "      <td>0</td>\n",
              "    </tr>\n",
              "    <tr>\n",
              "      <th>6495</th>\n",
              "      <td>1</td>\n",
              "      <td>red</td>\n",
              "      <td>5.9</td>\n",
              "      <td>0.645</td>\n",
              "      <td>0.12</td>\n",
              "      <td>2.0</td>\n",
              "      <td>0.075</td>\n",
              "      <td>32.0</td>\n",
              "      <td>44.0</td>\n",
              "      <td>0.99547</td>\n",
              "      <td>3.57</td>\n",
              "      <td>0.71</td>\n",
              "      <td>10.2</td>\n",
              "      <td>5</td>\n",
              "      <td>0</td>\n",
              "    </tr>\n",
              "    <tr>\n",
              "      <th>6496</th>\n",
              "      <td>1</td>\n",
              "      <td>red</td>\n",
              "      <td>6.0</td>\n",
              "      <td>0.310</td>\n",
              "      <td>0.47</td>\n",
              "      <td>3.6</td>\n",
              "      <td>0.067</td>\n",
              "      <td>18.0</td>\n",
              "      <td>42.0</td>\n",
              "      <td>0.99549</td>\n",
              "      <td>3.39</td>\n",
              "      <td>0.66</td>\n",
              "      <td>11.0</td>\n",
              "      <td>6</td>\n",
              "      <td>0</td>\n",
              "    </tr>\n",
              "  </tbody>\n",
              "</table>\n",
              "<p>6497 rows × 15 columns</p>\n",
              "</div>\n",
              "      <button class=\"colab-df-convert\" onclick=\"convertToInteractive('df-9e7aec2f-cf90-4d79-b2b1-95ff1e598957')\"\n",
              "              title=\"Convert this dataframe to an interactive table.\"\n",
              "              style=\"display:none;\">\n",
              "        \n",
              "  <svg xmlns=\"http://www.w3.org/2000/svg\" height=\"24px\"viewBox=\"0 0 24 24\"\n",
              "       width=\"24px\">\n",
              "    <path d=\"M0 0h24v24H0V0z\" fill=\"none\"/>\n",
              "    <path d=\"M18.56 5.44l.94 2.06.94-2.06 2.06-.94-2.06-.94-.94-2.06-.94 2.06-2.06.94zm-11 1L8.5 8.5l.94-2.06 2.06-.94-2.06-.94L8.5 2.5l-.94 2.06-2.06.94zm10 10l.94 2.06.94-2.06 2.06-.94-2.06-.94-.94-2.06-.94 2.06-2.06.94z\"/><path d=\"M17.41 7.96l-1.37-1.37c-.4-.4-.92-.59-1.43-.59-.52 0-1.04.2-1.43.59L10.3 9.45l-7.72 7.72c-.78.78-.78 2.05 0 2.83L4 21.41c.39.39.9.59 1.41.59.51 0 1.02-.2 1.41-.59l7.78-7.78 2.81-2.81c.8-.78.8-2.07 0-2.86zM5.41 20L4 18.59l7.72-7.72 1.47 1.35L5.41 20z\"/>\n",
              "  </svg>\n",
              "      </button>\n",
              "      \n",
              "  <style>\n",
              "    .colab-df-container {\n",
              "      display:flex;\n",
              "      flex-wrap:wrap;\n",
              "      gap: 12px;\n",
              "    }\n",
              "\n",
              "    .colab-df-convert {\n",
              "      background-color: #E8F0FE;\n",
              "      border: none;\n",
              "      border-radius: 50%;\n",
              "      cursor: pointer;\n",
              "      display: none;\n",
              "      fill: #1967D2;\n",
              "      height: 32px;\n",
              "      padding: 0 0 0 0;\n",
              "      width: 32px;\n",
              "    }\n",
              "\n",
              "    .colab-df-convert:hover {\n",
              "      background-color: #E2EBFA;\n",
              "      box-shadow: 0px 1px 2px rgba(60, 64, 67, 0.3), 0px 1px 3px 1px rgba(60, 64, 67, 0.15);\n",
              "      fill: #174EA6;\n",
              "    }\n",
              "\n",
              "    [theme=dark] .colab-df-convert {\n",
              "      background-color: #3B4455;\n",
              "      fill: #D2E3FC;\n",
              "    }\n",
              "\n",
              "    [theme=dark] .colab-df-convert:hover {\n",
              "      background-color: #434B5C;\n",
              "      box-shadow: 0px 1px 3px 1px rgba(0, 0, 0, 0.15);\n",
              "      filter: drop-shadow(0px 1px 2px rgba(0, 0, 0, 0.3));\n",
              "      fill: #FFFFFF;\n",
              "    }\n",
              "  </style>\n",
              "\n",
              "      <script>\n",
              "        const buttonEl =\n",
              "          document.querySelector('#df-9e7aec2f-cf90-4d79-b2b1-95ff1e598957 button.colab-df-convert');\n",
              "        buttonEl.style.display =\n",
              "          google.colab.kernel.accessAllowed ? 'block' : 'none';\n",
              "\n",
              "        async function convertToInteractive(key) {\n",
              "          const element = document.querySelector('#df-9e7aec2f-cf90-4d79-b2b1-95ff1e598957');\n",
              "          const dataTable =\n",
              "            await google.colab.kernel.invokeFunction('convertToInteractive',\n",
              "                                                     [key], {});\n",
              "          if (!dataTable) return;\n",
              "\n",
              "          const docLinkHtml = 'Like what you see? Visit the ' +\n",
              "            '<a target=\"_blank\" href=https://colab.research.google.com/notebooks/data_table.ipynb>data table notebook</a>'\n",
              "            + ' to learn more about interactive tables.';\n",
              "          element.innerHTML = '';\n",
              "          dataTable['output_type'] = 'display_data';\n",
              "          await google.colab.output.renderOutput(dataTable, element);\n",
              "          const docLink = document.createElement('div');\n",
              "          docLink.innerHTML = docLinkHtml;\n",
              "          element.appendChild(docLink);\n",
              "        }\n",
              "      </script>\n",
              "    </div>\n",
              "  </div>\n",
              "  "
            ]
          },
          "metadata": {},
          "execution_count": 92
        }
      ]
    },
    {
      "cell_type": "code",
      "source": [
        "X = df.loc[:,\"fixed acidity\":\"goodquality\"]\n",
        "X = X.drop(['goodquality','pH','citric acid','free sulfur dioxide','fixed acidity','quality'],axis=1)\n",
        "y = df['goodquality']\n",
        "X"
      ],
      "metadata": {
        "colab": {
          "base_uri": "https://localhost:8080/",
          "height": 419
        },
        "id": "VHmZZfIFoFLc",
        "outputId": "437124a2-aa88-48a3-e08f-79133ba6aa3b"
      },
      "id": "VHmZZfIFoFLc",
      "execution_count": null,
      "outputs": [
        {
          "output_type": "execute_result",
          "data": {
            "text/plain": [
              "      volatile acidity  residual sugar  chlorides  total sulfur dioxide  \\\n",
              "0                0.270            20.7      0.045                 170.0   \n",
              "1                0.300             1.6      0.049                 132.0   \n",
              "2                0.280             6.9      0.050                  97.0   \n",
              "3                0.230             8.5      0.058                 186.0   \n",
              "4                0.230             8.5      0.058                 186.0   \n",
              "...                ...             ...        ...                   ...   \n",
              "6492             0.600             2.0      0.090                  44.0   \n",
              "6493             0.550             2.2      0.062                  51.0   \n",
              "6494             0.510             2.3      0.076                  40.0   \n",
              "6495             0.645             2.0      0.075                  44.0   \n",
              "6496             0.310             3.6      0.067                  42.0   \n",
              "\n",
              "      density  sulphates  alcohol  \n",
              "0     1.00100       0.45      8.8  \n",
              "1     0.99400       0.49      9.5  \n",
              "2     0.99510       0.44     10.1  \n",
              "3     0.99560       0.40      9.9  \n",
              "4     0.99560       0.40      9.9  \n",
              "...       ...        ...      ...  \n",
              "6492  0.99490       0.58     10.5  \n",
              "6493  0.99512       0.76     11.2  \n",
              "6494  0.99574       0.75     11.0  \n",
              "6495  0.99547       0.71     10.2  \n",
              "6496  0.99549       0.66     11.0  \n",
              "\n",
              "[6497 rows x 7 columns]"
            ],
            "text/html": [
              "\n",
              "  <div id=\"df-5a24cb9b-ab3f-437d-9450-2a78126fe74f\">\n",
              "    <div class=\"colab-df-container\">\n",
              "      <div>\n",
              "<style scoped>\n",
              "    .dataframe tbody tr th:only-of-type {\n",
              "        vertical-align: middle;\n",
              "    }\n",
              "\n",
              "    .dataframe tbody tr th {\n",
              "        vertical-align: top;\n",
              "    }\n",
              "\n",
              "    .dataframe thead th {\n",
              "        text-align: right;\n",
              "    }\n",
              "</style>\n",
              "<table border=\"1\" class=\"dataframe\">\n",
              "  <thead>\n",
              "    <tr style=\"text-align: right;\">\n",
              "      <th></th>\n",
              "      <th>volatile acidity</th>\n",
              "      <th>residual sugar</th>\n",
              "      <th>chlorides</th>\n",
              "      <th>total sulfur dioxide</th>\n",
              "      <th>density</th>\n",
              "      <th>sulphates</th>\n",
              "      <th>alcohol</th>\n",
              "    </tr>\n",
              "  </thead>\n",
              "  <tbody>\n",
              "    <tr>\n",
              "      <th>0</th>\n",
              "      <td>0.270</td>\n",
              "      <td>20.7</td>\n",
              "      <td>0.045</td>\n",
              "      <td>170.0</td>\n",
              "      <td>1.00100</td>\n",
              "      <td>0.45</td>\n",
              "      <td>8.8</td>\n",
              "    </tr>\n",
              "    <tr>\n",
              "      <th>1</th>\n",
              "      <td>0.300</td>\n",
              "      <td>1.6</td>\n",
              "      <td>0.049</td>\n",
              "      <td>132.0</td>\n",
              "      <td>0.99400</td>\n",
              "      <td>0.49</td>\n",
              "      <td>9.5</td>\n",
              "    </tr>\n",
              "    <tr>\n",
              "      <th>2</th>\n",
              "      <td>0.280</td>\n",
              "      <td>6.9</td>\n",
              "      <td>0.050</td>\n",
              "      <td>97.0</td>\n",
              "      <td>0.99510</td>\n",
              "      <td>0.44</td>\n",
              "      <td>10.1</td>\n",
              "    </tr>\n",
              "    <tr>\n",
              "      <th>3</th>\n",
              "      <td>0.230</td>\n",
              "      <td>8.5</td>\n",
              "      <td>0.058</td>\n",
              "      <td>186.0</td>\n",
              "      <td>0.99560</td>\n",
              "      <td>0.40</td>\n",
              "      <td>9.9</td>\n",
              "    </tr>\n",
              "    <tr>\n",
              "      <th>4</th>\n",
              "      <td>0.230</td>\n",
              "      <td>8.5</td>\n",
              "      <td>0.058</td>\n",
              "      <td>186.0</td>\n",
              "      <td>0.99560</td>\n",
              "      <td>0.40</td>\n",
              "      <td>9.9</td>\n",
              "    </tr>\n",
              "    <tr>\n",
              "      <th>...</th>\n",
              "      <td>...</td>\n",
              "      <td>...</td>\n",
              "      <td>...</td>\n",
              "      <td>...</td>\n",
              "      <td>...</td>\n",
              "      <td>...</td>\n",
              "      <td>...</td>\n",
              "    </tr>\n",
              "    <tr>\n",
              "      <th>6492</th>\n",
              "      <td>0.600</td>\n",
              "      <td>2.0</td>\n",
              "      <td>0.090</td>\n",
              "      <td>44.0</td>\n",
              "      <td>0.99490</td>\n",
              "      <td>0.58</td>\n",
              "      <td>10.5</td>\n",
              "    </tr>\n",
              "    <tr>\n",
              "      <th>6493</th>\n",
              "      <td>0.550</td>\n",
              "      <td>2.2</td>\n",
              "      <td>0.062</td>\n",
              "      <td>51.0</td>\n",
              "      <td>0.99512</td>\n",
              "      <td>0.76</td>\n",
              "      <td>11.2</td>\n",
              "    </tr>\n",
              "    <tr>\n",
              "      <th>6494</th>\n",
              "      <td>0.510</td>\n",
              "      <td>2.3</td>\n",
              "      <td>0.076</td>\n",
              "      <td>40.0</td>\n",
              "      <td>0.99574</td>\n",
              "      <td>0.75</td>\n",
              "      <td>11.0</td>\n",
              "    </tr>\n",
              "    <tr>\n",
              "      <th>6495</th>\n",
              "      <td>0.645</td>\n",
              "      <td>2.0</td>\n",
              "      <td>0.075</td>\n",
              "      <td>44.0</td>\n",
              "      <td>0.99547</td>\n",
              "      <td>0.71</td>\n",
              "      <td>10.2</td>\n",
              "    </tr>\n",
              "    <tr>\n",
              "      <th>6496</th>\n",
              "      <td>0.310</td>\n",
              "      <td>3.6</td>\n",
              "      <td>0.067</td>\n",
              "      <td>42.0</td>\n",
              "      <td>0.99549</td>\n",
              "      <td>0.66</td>\n",
              "      <td>11.0</td>\n",
              "    </tr>\n",
              "  </tbody>\n",
              "</table>\n",
              "<p>6497 rows × 7 columns</p>\n",
              "</div>\n",
              "      <button class=\"colab-df-convert\" onclick=\"convertToInteractive('df-5a24cb9b-ab3f-437d-9450-2a78126fe74f')\"\n",
              "              title=\"Convert this dataframe to an interactive table.\"\n",
              "              style=\"display:none;\">\n",
              "        \n",
              "  <svg xmlns=\"http://www.w3.org/2000/svg\" height=\"24px\"viewBox=\"0 0 24 24\"\n",
              "       width=\"24px\">\n",
              "    <path d=\"M0 0h24v24H0V0z\" fill=\"none\"/>\n",
              "    <path d=\"M18.56 5.44l.94 2.06.94-2.06 2.06-.94-2.06-.94-.94-2.06-.94 2.06-2.06.94zm-11 1L8.5 8.5l.94-2.06 2.06-.94-2.06-.94L8.5 2.5l-.94 2.06-2.06.94zm10 10l.94 2.06.94-2.06 2.06-.94-2.06-.94-.94-2.06-.94 2.06-2.06.94z\"/><path d=\"M17.41 7.96l-1.37-1.37c-.4-.4-.92-.59-1.43-.59-.52 0-1.04.2-1.43.59L10.3 9.45l-7.72 7.72c-.78.78-.78 2.05 0 2.83L4 21.41c.39.39.9.59 1.41.59.51 0 1.02-.2 1.41-.59l7.78-7.78 2.81-2.81c.8-.78.8-2.07 0-2.86zM5.41 20L4 18.59l7.72-7.72 1.47 1.35L5.41 20z\"/>\n",
              "  </svg>\n",
              "      </button>\n",
              "      \n",
              "  <style>\n",
              "    .colab-df-container {\n",
              "      display:flex;\n",
              "      flex-wrap:wrap;\n",
              "      gap: 12px;\n",
              "    }\n",
              "\n",
              "    .colab-df-convert {\n",
              "      background-color: #E8F0FE;\n",
              "      border: none;\n",
              "      border-radius: 50%;\n",
              "      cursor: pointer;\n",
              "      display: none;\n",
              "      fill: #1967D2;\n",
              "      height: 32px;\n",
              "      padding: 0 0 0 0;\n",
              "      width: 32px;\n",
              "    }\n",
              "\n",
              "    .colab-df-convert:hover {\n",
              "      background-color: #E2EBFA;\n",
              "      box-shadow: 0px 1px 2px rgba(60, 64, 67, 0.3), 0px 1px 3px 1px rgba(60, 64, 67, 0.15);\n",
              "      fill: #174EA6;\n",
              "    }\n",
              "\n",
              "    [theme=dark] .colab-df-convert {\n",
              "      background-color: #3B4455;\n",
              "      fill: #D2E3FC;\n",
              "    }\n",
              "\n",
              "    [theme=dark] .colab-df-convert:hover {\n",
              "      background-color: #434B5C;\n",
              "      box-shadow: 0px 1px 3px 1px rgba(0, 0, 0, 0.15);\n",
              "      filter: drop-shadow(0px 1px 2px rgba(0, 0, 0, 0.3));\n",
              "      fill: #FFFFFF;\n",
              "    }\n",
              "  </style>\n",
              "\n",
              "      <script>\n",
              "        const buttonEl =\n",
              "          document.querySelector('#df-5a24cb9b-ab3f-437d-9450-2a78126fe74f button.colab-df-convert');\n",
              "        buttonEl.style.display =\n",
              "          google.colab.kernel.accessAllowed ? 'block' : 'none';\n",
              "\n",
              "        async function convertToInteractive(key) {\n",
              "          const element = document.querySelector('#df-5a24cb9b-ab3f-437d-9450-2a78126fe74f');\n",
              "          const dataTable =\n",
              "            await google.colab.kernel.invokeFunction('convertToInteractive',\n",
              "                                                     [key], {});\n",
              "          if (!dataTable) return;\n",
              "\n",
              "          const docLinkHtml = 'Like what you see? Visit the ' +\n",
              "            '<a target=\"_blank\" href=https://colab.research.google.com/notebooks/data_table.ipynb>data table notebook</a>'\n",
              "            + ' to learn more about interactive tables.';\n",
              "          element.innerHTML = '';\n",
              "          dataTable['output_type'] = 'display_data';\n",
              "          await google.colab.output.renderOutput(dataTable, element);\n",
              "          const docLink = document.createElement('div');\n",
              "          docLink.innerHTML = docLinkHtml;\n",
              "          element.appendChild(docLink);\n",
              "        }\n",
              "      </script>\n",
              "    </div>\n",
              "  </div>\n",
              "  "
            ]
          },
          "metadata": {},
          "execution_count": 93
        }
      ]
    },
    {
      "cell_type": "code",
      "source": [
        "y"
      ],
      "metadata": {
        "colab": {
          "base_uri": "https://localhost:8080/"
        },
        "id": "rwbIbykybNP_",
        "outputId": "dd9dd43b-eaa6-44f0-d0f4-2cb3b6fdc746"
      },
      "id": "rwbIbykybNP_",
      "execution_count": null,
      "outputs": [
        {
          "output_type": "execute_result",
          "data": {
            "text/plain": [
              "0       0\n",
              "1       0\n",
              "2       0\n",
              "3       0\n",
              "4       0\n",
              "       ..\n",
              "6492    0\n",
              "6493    0\n",
              "6494    0\n",
              "6495    0\n",
              "6496    0\n",
              "Name: goodquality, Length: 6497, dtype: int64"
            ]
          },
          "metadata": {},
          "execution_count": 94
        }
      ]
    },
    {
      "cell_type": "code",
      "source": [
        "x_train,x_test,y_train,y_test = train_test_split(X,y,test_size=0.2,random_state=42)"
      ],
      "metadata": {
        "id": "qPziiOohgl8h"
      },
      "id": "qPziiOohgl8h",
      "execution_count": null,
      "outputs": []
    },
    {
      "cell_type": "code",
      "source": [
        "x_train.shape"
      ],
      "metadata": {
        "colab": {
          "base_uri": "https://localhost:8080/"
        },
        "id": "SxeybA3vy5cz",
        "outputId": "78d4ce24-e9ea-491e-a89d-36f53112e7c6"
      },
      "id": "SxeybA3vy5cz",
      "execution_count": null,
      "outputs": [
        {
          "output_type": "execute_result",
          "data": {
            "text/plain": [
              "(5197, 7)"
            ]
          },
          "metadata": {},
          "execution_count": 96
        }
      ]
    },
    {
      "cell_type": "code",
      "source": [
        "y_train.shape"
      ],
      "metadata": {
        "colab": {
          "base_uri": "https://localhost:8080/"
        },
        "id": "lJKW83DVy9HL",
        "outputId": "88030cc1-411a-4846-b701-4703ba6e7653"
      },
      "id": "lJKW83DVy9HL",
      "execution_count": null,
      "outputs": [
        {
          "output_type": "execute_result",
          "data": {
            "text/plain": [
              "(5197,)"
            ]
          },
          "metadata": {},
          "execution_count": 97
        }
      ]
    },
    {
      "cell_type": "code",
      "source": [
        "x_test.shape"
      ],
      "metadata": {
        "colab": {
          "base_uri": "https://localhost:8080/"
        },
        "id": "E7EHZqvGzCmZ",
        "outputId": "f4b8328b-71e5-4e97-8322-c0cab51ea82f"
      },
      "id": "E7EHZqvGzCmZ",
      "execution_count": null,
      "outputs": [
        {
          "output_type": "execute_result",
          "data": {
            "text/plain": [
              "(1300, 7)"
            ]
          },
          "metadata": {},
          "execution_count": 98
        }
      ]
    },
    {
      "cell_type": "code",
      "source": [
        "y_test.shape"
      ],
      "metadata": {
        "colab": {
          "base_uri": "https://localhost:8080/"
        },
        "id": "LAenHClszIG0",
        "outputId": "6f5d8beb-554e-4d0f-c83f-2215e214a088"
      },
      "id": "LAenHClszIG0",
      "execution_count": null,
      "outputs": [
        {
          "output_type": "execute_result",
          "data": {
            "text/plain": [
              "(1300,)"
            ]
          },
          "metadata": {},
          "execution_count": 99
        }
      ]
    },
    {
      "cell_type": "markdown",
      "source": [
        "# Random Forest Classifier\n"
      ],
      "metadata": {
        "id": "OXmYcq1rtcO5"
      },
      "id": "OXmYcq1rtcO5"
    },
    {
      "cell_type": "code",
      "source": [
        "rfc = RandomForestClassifier(n_estimators=100)\n",
        "rfc.fit(x_train, y_train)\n",
        "pred_rfc = rfc.predict(x_test)"
      ],
      "metadata": {
        "id": "OWKHKkNgtcsn"
      },
      "id": "OWKHKkNgtcsn",
      "execution_count": null,
      "outputs": []
    },
    {
      "cell_type": "code",
      "source": [
        "print(classification_report(y_test, pred_rfc))"
      ],
      "metadata": {
        "id": "F1a_YqHutdrp",
        "colab": {
          "base_uri": "https://localhost:8080/"
        },
        "outputId": "0e207069-f5b7-432a-f739-c199a87b9a61"
      },
      "id": "F1a_YqHutdrp",
      "execution_count": null,
      "outputs": [
        {
          "output_type": "stream",
          "name": "stdout",
          "text": [
            "              precision    recall  f1-score   support\n",
            "\n",
            "           0       0.89      0.96      0.93      1047\n",
            "           1       0.76      0.53      0.62       253\n",
            "\n",
            "    accuracy                           0.88      1300\n",
            "   macro avg       0.83      0.74      0.77      1300\n",
            "weighted avg       0.87      0.88      0.87      1300\n",
            "\n"
          ]
        }
      ]
    },
    {
      "cell_type": "code",
      "source": [
        "pred_rfc\n"
      ],
      "metadata": {
        "id": "CG0E9auptdjw",
        "colab": {
          "base_uri": "https://localhost:8080/"
        },
        "outputId": "17023b12-2d8f-4cc9-c53a-8ab5261aae73"
      },
      "id": "CG0E9auptdjw",
      "execution_count": null,
      "outputs": [
        {
          "output_type": "execute_result",
          "data": {
            "text/plain": [
              "array([1, 0, 0, ..., 0, 0, 0])"
            ]
          },
          "metadata": {},
          "execution_count": 102
        }
      ]
    },
    {
      "cell_type": "code",
      "source": [
        "#Now lets try to do some evaluation for random forest model using cross validation.\n",
        "rfc_eval = cross_val_score(estimator = rfc, X = x_train, y = y_train, cv = 5)\n",
        "rfc_eval.mean()"
      ],
      "metadata": {
        "id": "i1uX0Etztddx",
        "colab": {
          "base_uri": "https://localhost:8080/"
        },
        "outputId": "eaa9231b-79ac-48c5-b026-6801cc9ee08b"
      },
      "id": "i1uX0Etztddx",
      "execution_count": null,
      "outputs": [
        {
          "output_type": "execute_result",
          "data": {
            "text/plain": [
              "0.8783893536684682"
            ]
          },
          "metadata": {},
          "execution_count": 103
        }
      ]
    },
    {
      "cell_type": "markdown",
      "source": [
        "## Support Vector Classifier along with Grind Search cv\n",
        "GridSearchCV is the process of performing hyperparameter tuning in order to determine the optimal values for a given model."
      ],
      "metadata": {
        "id": "6jirbxi_uQpn"
      },
      "id": "6jirbxi_uQpn"
    },
    {
      "cell_type": "code",
      "source": [
        "svc = SVC()\n",
        "svc.fit(x_train,y_train)\n",
        "pred_svc = svc.predict(x_test)"
      ],
      "metadata": {
        "id": "LdoPzpr4tdW5"
      },
      "id": "LdoPzpr4tdW5",
      "execution_count": null,
      "outputs": []
    },
    {
      "cell_type": "code",
      "source": [
        "pred_svc\n",
        "y_test.shape"
      ],
      "metadata": {
        "id": "gAUqb9E-tdPE",
        "colab": {
          "base_uri": "https://localhost:8080/"
        },
        "outputId": "c076c144-8ce8-44f1-cb79-8ac3d0724b70"
      },
      "id": "gAUqb9E-tdPE",
      "execution_count": null,
      "outputs": [
        {
          "output_type": "execute_result",
          "data": {
            "text/plain": [
              "(1300,)"
            ]
          },
          "metadata": {},
          "execution_count": 130
        }
      ]
    },
    {
      "cell_type": "code",
      "source": [
        "accuracy = accuracy_score(y_test, pred_svc)\n",
        "accuracy"
      ],
      "metadata": {
        "colab": {
          "base_uri": "https://localhost:8080/"
        },
        "id": "cXi4oCWT1kXc",
        "outputId": "484d0bfa-0346-435f-9575-7c0bd4a56704"
      },
      "id": "cXi4oCWT1kXc",
      "execution_count": null,
      "outputs": [
        {
          "output_type": "execute_result",
          "data": {
            "text/plain": [
              "0.8053846153846154"
            ]
          },
          "metadata": {},
          "execution_count": 131
        }
      ]
    },
    {
      "cell_type": "code",
      "source": [
        "#Finding best parameters for our SVC model\n",
        "param = {\n",
        "    'C': [0.1,0.8,0.9,1,1.1,1.2,1.3,1.4],\n",
        "    'kernel':['linear', 'rbf'],\n",
        "    'gamma' :[0.1,0.8,0.9,1,1.1,1.2,1.3,1.4]\n",
        "}\n",
        "grid_svc = GridSearchCV(svc, param_grid=param, scoring='accuracy', cv=10)"
      ],
      "metadata": {
        "id": "pweetme2u2I2"
      },
      "id": "pweetme2u2I2",
      "execution_count": null,
      "outputs": []
    },
    {
      "cell_type": "code",
      "source": [
        "# grid_svc.fit(x_train, y_train)\n",
        "# Best parameters for our svc model"
      ],
      "metadata": {
        "id": "-P3KlAeLu2CQ"
      },
      "id": "-P3KlAeLu2CQ",
      "execution_count": null,
      "outputs": []
    },
    {
      "cell_type": "code",
      "source": [
        "# grid_svc.best_params_"
      ],
      "metadata": {
        "id": "MogZWMOIu15T"
      },
      "id": "MogZWMOIu15T",
      "execution_count": null,
      "outputs": []
    },
    {
      "cell_type": "code",
      "source": [
        "svc2 = SVC(C = 1.2, gamma =  0.9, kernel= 'rbf')\n",
        "svc2.fit(x_train, y_train)\n",
        "pred_svc2 = svc2.predict(x_test)\n",
        "print(classification_report(y_test, pred_svc2))"
      ],
      "metadata": {
        "id": "hIOL7CKtu1yP",
        "colab": {
          "base_uri": "https://localhost:8080/"
        },
        "outputId": "552ac2bf-e5d9-48e9-972a-ec7c152a21eb"
      },
      "id": "hIOL7CKtu1yP",
      "execution_count": null,
      "outputs": [
        {
          "output_type": "stream",
          "name": "stdout",
          "text": [
            "              precision    recall  f1-score   support\n",
            "\n",
            "           0       0.86      0.95      0.91      1047\n",
            "           1       0.66      0.37      0.47       253\n",
            "\n",
            "    accuracy                           0.84      1300\n",
            "   macro avg       0.76      0.66      0.69      1300\n",
            "weighted avg       0.82      0.84      0.82      1300\n",
            "\n"
          ]
        }
      ]
    },
    {
      "cell_type": "code",
      "source": [
        "accuracy = accuracy_score(y_test, pred_svc2)\n",
        "accuracy"
      ],
      "metadata": {
        "id": "KcuXoCS8u1tA",
        "colab": {
          "base_uri": "https://localhost:8080/"
        },
        "outputId": "3897b3ff-43a6-49a9-f8ba-79124f98d800"
      },
      "id": "KcuXoCS8u1tA",
      "execution_count": null,
      "outputs": [
        {
          "output_type": "execute_result",
          "data": {
            "text/plain": [
              "0.84"
            ]
          },
          "metadata": {},
          "execution_count": 134
        }
      ]
    },
    {
      "cell_type": "markdown",
      "source": [
        "## ANN"
      ],
      "metadata": {
        "id": "pg551kVjcJrK"
      },
      "id": "pg551kVjcJrK"
    },
    {
      "cell_type": "code",
      "source": [
        "model1=tf.keras.Sequential([\n",
        "    layers.Flatten(input_shape=(7, )),\n",
        "    layers.Dense(64,activation='relu'),\n",
        "    layers.Dense(128,activation='relu'),\n",
        "    layers.Dense(128,activation='relu'),\n",
        "    layers.Dense(256,activation='relu'),\n",
        "    layers.Dense(1,activation='sigmoid')\n",
        "])"
      ],
      "metadata": {
        "id": "YY5PYgRJbNOX"
      },
      "id": "YY5PYgRJbNOX",
      "execution_count": null,
      "outputs": []
    },
    {
      "cell_type": "code",
      "source": [
        "model1.compile(\n",
        "    optimizer='adam',\n",
        "    loss='binary_crossentropy',\n",
        "    metrics=[\"accuracy\"]  \n",
        "             )"
      ],
      "metadata": {
        "id": "TjfEesJjbNM2"
      },
      "id": "TjfEesJjbNM2",
      "execution_count": null,
      "outputs": []
    },
    {
      "cell_type": "code",
      "source": [
        "model1.fit(x_train,y_train,epochs=50,validation_data=(x_test, y_test),\n",
        "    batch_size=10,callbacks=[early_stopping],)"
      ],
      "metadata": {
        "colab": {
          "base_uri": "https://localhost:8080/"
        },
        "id": "qY1MlPgNbNIh",
        "outputId": "16b97c0d-bbf8-417a-c8bf-45b637b832bb"
      },
      "id": "qY1MlPgNbNIh",
      "execution_count": null,
      "outputs": [
        {
          "output_type": "stream",
          "name": "stdout",
          "text": [
            "Epoch 1/50\n",
            "520/520 [==============================] - 4s 6ms/step - loss: 0.5422 - accuracy: 0.7966 - val_loss: 0.5129 - val_accuracy: 0.8054\n",
            "Epoch 2/50\n",
            "520/520 [==============================] - 2s 4ms/step - loss: 0.5001 - accuracy: 0.8026 - val_loss: 0.4934 - val_accuracy: 0.8054\n",
            "Epoch 3/50\n",
            "520/520 [==============================] - 2s 4ms/step - loss: 0.4926 - accuracy: 0.8030 - val_loss: 0.4824 - val_accuracy: 0.8054\n",
            "Epoch 4/50\n",
            "520/520 [==============================] - 2s 4ms/step - loss: 0.4913 - accuracy: 0.8030 - val_loss: 0.4791 - val_accuracy: 0.8054\n",
            "Epoch 5/50\n",
            "520/520 [==============================] - 2s 4ms/step - loss: 0.4835 - accuracy: 0.8030 - val_loss: 0.4715 - val_accuracy: 0.8054\n",
            "Epoch 6/50\n",
            "520/520 [==============================] - 2s 4ms/step - loss: 0.4778 - accuracy: 0.8035 - val_loss: 0.4673 - val_accuracy: 0.8054\n",
            "Epoch 7/50\n",
            "520/520 [==============================] - 3s 6ms/step - loss: 0.4748 - accuracy: 0.8020 - val_loss: 0.4816 - val_accuracy: 0.8054\n",
            "Epoch 8/50\n",
            "520/520 [==============================] - 4s 8ms/step - loss: 0.4718 - accuracy: 0.8028 - val_loss: 0.4441 - val_accuracy: 0.8054\n",
            "Epoch 9/50\n",
            "520/520 [==============================] - 4s 8ms/step - loss: 0.4606 - accuracy: 0.8039 - val_loss: 0.4587 - val_accuracy: 0.8046\n",
            "Epoch 10/50\n",
            "520/520 [==============================] - 3s 5ms/step - loss: 0.4546 - accuracy: 0.8053 - val_loss: 0.4857 - val_accuracy: 0.8054\n",
            "Epoch 11/50\n",
            "520/520 [==============================] - 4s 7ms/step - loss: 0.4521 - accuracy: 0.8028 - val_loss: 0.4490 - val_accuracy: 0.8031\n",
            "Epoch 12/50\n",
            "520/520 [==============================] - 4s 7ms/step - loss: 0.4445 - accuracy: 0.8047 - val_loss: 0.4286 - val_accuracy: 0.8054\n",
            "Epoch 13/50\n",
            "520/520 [==============================] - 2s 4ms/step - loss: 0.4400 - accuracy: 0.8028 - val_loss: 0.4083 - val_accuracy: 0.8062\n",
            "Epoch 14/50\n",
            "520/520 [==============================] - 2s 4ms/step - loss: 0.4309 - accuracy: 0.8070 - val_loss: 0.4853 - val_accuracy: 0.8054\n",
            "Epoch 15/50\n",
            "520/520 [==============================] - 3s 7ms/step - loss: 0.4324 - accuracy: 0.8041 - val_loss: 0.4195 - val_accuracy: 0.8054\n",
            "Epoch 16/50\n",
            "520/520 [==============================] - 4s 8ms/step - loss: 0.4276 - accuracy: 0.8051 - val_loss: 0.4157 - val_accuracy: 0.8046\n",
            "Epoch 17/50\n",
            "520/520 [==============================] - 4s 7ms/step - loss: 0.4194 - accuracy: 0.8060 - val_loss: 0.4265 - val_accuracy: 0.8062\n",
            "Epoch 18/50\n",
            "520/520 [==============================] - 2s 4ms/step - loss: 0.4264 - accuracy: 0.8051 - val_loss: 0.4028 - val_accuracy: 0.8062\n",
            "Epoch 19/50\n",
            "520/520 [==============================] - 2s 4ms/step - loss: 0.4244 - accuracy: 0.8082 - val_loss: 0.4038 - val_accuracy: 0.8038\n",
            "Epoch 20/50\n",
            "520/520 [==============================] - 2s 4ms/step - loss: 0.4200 - accuracy: 0.8072 - val_loss: 0.4150 - val_accuracy: 0.8069\n",
            "Epoch 21/50\n",
            "520/520 [==============================] - 2s 5ms/step - loss: 0.4196 - accuracy: 0.8060 - val_loss: 0.4261 - val_accuracy: 0.8085\n",
            "Epoch 22/50\n",
            "520/520 [==============================] - 3s 7ms/step - loss: 0.4203 - accuracy: 0.8085 - val_loss: 0.4027 - val_accuracy: 0.8031\n",
            "Epoch 23/50\n",
            "520/520 [==============================] - 2s 4ms/step - loss: 0.4174 - accuracy: 0.8097 - val_loss: 0.4190 - val_accuracy: 0.8146\n"
          ]
        },
        {
          "output_type": "execute_result",
          "data": {
            "text/plain": [
              "<keras.callbacks.History at 0x7f24e49edf90>"
            ]
          },
          "metadata": {},
          "execution_count": 113
        }
      ]
    },
    {
      "cell_type": "code",
      "source": [
        "y_pred = model1.predict(x_test)\n",
        "score, acc = model1.evaluate(x_test, y_test,batch_size=10)\n",
        "print('Test score:', score)\n",
        "print('Test accuracy:', acc*100)"
      ],
      "metadata": {
        "colab": {
          "base_uri": "https://localhost:8080/"
        },
        "id": "3Tz1CUTCbNGw",
        "outputId": "8b81cf53-1613-4828-932a-18b836a1a6a6"
      },
      "id": "3Tz1CUTCbNGw",
      "execution_count": null,
      "outputs": [
        {
          "output_type": "stream",
          "name": "stdout",
          "text": [
            "41/41 [==============================] - 0s 2ms/step\n",
            "130/130 [==============================] - 0s 2ms/step - loss: 0.4028 - accuracy: 0.8062\n",
            "Test score: 0.4028361737728119\n",
            "Test accuracy: 80.61538338661194\n"
          ]
        }
      ]
    },
    {
      "cell_type": "code",
      "source": [
        "model1.compile(\n",
        "    optimizer='SGD',\n",
        "    loss='binary_crossentropy',\n",
        "    metrics=[\"accuracy\"]\n",
        "             )\n",
        "model1.fit(x_train,y_train,epochs=50,validation_data=(x_test, y_test),\n",
        "    batch_size=10,callbacks=[early_stopping],)\n",
        "y_pred = model1.predict(x_test)\n",
        "score, acc = model1.evaluate(x_test, y_test,batch_size=10)\n",
        "print('Test score:', score)\n",
        "print('Test accuracy:', acc*100)"
      ],
      "metadata": {
        "colab": {
          "base_uri": "https://localhost:8080/"
        },
        "id": "L_Kgc6hNcYec",
        "outputId": "e0d17b88-eb06-41fb-83c1-f0c6fe1135f9"
      },
      "id": "L_Kgc6hNcYec",
      "execution_count": null,
      "outputs": [
        {
          "output_type": "stream",
          "name": "stdout",
          "text": [
            "Epoch 1/50\n",
            "520/520 [==============================] - 2s 3ms/step - loss: 0.4655 - accuracy: 0.8047 - val_loss: 0.4756 - val_accuracy: 0.8062\n",
            "Epoch 2/50\n",
            "520/520 [==============================] - 2s 3ms/step - loss: 0.4627 - accuracy: 0.8060 - val_loss: 0.4598 - val_accuracy: 0.8054\n",
            "Epoch 3/50\n",
            "520/520 [==============================] - 2s 3ms/step - loss: 0.4637 - accuracy: 0.8045 - val_loss: 0.4528 - val_accuracy: 0.8062\n",
            "Epoch 4/50\n",
            "520/520 [==============================] - 2s 3ms/step - loss: 0.4608 - accuracy: 0.8028 - val_loss: 0.4453 - val_accuracy: 0.8062\n",
            "Epoch 5/50\n",
            "520/520 [==============================] - 2s 3ms/step - loss: 0.4555 - accuracy: 0.8047 - val_loss: 0.4441 - val_accuracy: 0.8054\n",
            "Epoch 6/50\n",
            "520/520 [==============================] - 2s 3ms/step - loss: 0.4577 - accuracy: 0.8058 - val_loss: 0.4666 - val_accuracy: 0.7908\n",
            "Epoch 7/50\n",
            "520/520 [==============================] - 1s 3ms/step - loss: 0.4553 - accuracy: 0.8047 - val_loss: 0.4543 - val_accuracy: 0.8062\n",
            "Epoch 8/50\n",
            "520/520 [==============================] - 2s 3ms/step - loss: 0.4575 - accuracy: 0.8043 - val_loss: 0.4468 - val_accuracy: 0.8054\n",
            "Epoch 9/50\n",
            "520/520 [==============================] - 2s 3ms/step - loss: 0.4595 - accuracy: 0.8032 - val_loss: 0.4365 - val_accuracy: 0.8054\n",
            "Epoch 10/50\n",
            "520/520 [==============================] - 1s 3ms/step - loss: 0.4555 - accuracy: 0.8055 - val_loss: 0.4475 - val_accuracy: 0.8054\n",
            "Epoch 11/50\n",
            "520/520 [==============================] - 1s 3ms/step - loss: 0.4557 - accuracy: 0.8064 - val_loss: 0.4593 - val_accuracy: 0.8054\n",
            "Epoch 12/50\n",
            "520/520 [==============================] - 1s 3ms/step - loss: 0.4566 - accuracy: 0.8060 - val_loss: 0.4564 - val_accuracy: 0.8038\n",
            "Epoch 13/50\n",
            "520/520 [==============================] - 2s 3ms/step - loss: 0.4519 - accuracy: 0.8058 - val_loss: 0.4472 - val_accuracy: 0.8092\n",
            "Epoch 14/50\n",
            "520/520 [==============================] - 2s 3ms/step - loss: 0.4532 - accuracy: 0.8057 - val_loss: 0.4403 - val_accuracy: 0.8054\n",
            "41/41 [==============================] - 0s 2ms/step\n",
            "130/130 [==============================] - 0s 2ms/step - loss: 0.4365 - accuracy: 0.8054\n",
            "Test score: 0.436460018157959\n",
            "Test accuracy: 80.5384635925293\n"
          ]
        }
      ]
    },
    {
      "cell_type": "code",
      "source": [
        "model1.compile(\n",
        "    optimizer='Adagrad',\n",
        "    loss='binary_crossentropy',\n",
        "    metrics=[\"accuracy\"]\n",
        "             )\n",
        "model1.fit(x_train,y_train,epochs=50,validation_data=(x_test, y_test),\n",
        "    batch_size=10,callbacks=[early_stopping],)\n",
        "y_pred = model1.predict(x_test)\n",
        "score, acc = model1.evaluate(x_test, y_test,batch_size=10)\n",
        "print('Test score:', score)\n",
        "print('Test accuracy:', acc*100)\n",
        "y_pred = model1.predict(x_train)"
      ],
      "metadata": {
        "colab": {
          "base_uri": "https://localhost:8080/"
        },
        "id": "2Y4acZs2cYZg",
        "outputId": "2dbdcd34-4806-4f91-a1d2-3ac6fcb158cb"
      },
      "id": "2Y4acZs2cYZg",
      "execution_count": null,
      "outputs": [
        {
          "output_type": "stream",
          "name": "stdout",
          "text": [
            "Epoch 1/50\n",
            "520/520 [==============================] - 2s 3ms/step - loss: 0.4369 - accuracy: 0.8055 - val_loss: 0.4286 - val_accuracy: 0.8046\n",
            "Epoch 2/50\n",
            "520/520 [==============================] - 2s 3ms/step - loss: 0.4292 - accuracy: 0.8062 - val_loss: 0.4225 - val_accuracy: 0.8046\n",
            "Epoch 3/50\n",
            "520/520 [==============================] - 2s 3ms/step - loss: 0.4250 - accuracy: 0.8049 - val_loss: 0.4191 - val_accuracy: 0.8046\n",
            "Epoch 4/50\n",
            "520/520 [==============================] - 2s 3ms/step - loss: 0.4219 - accuracy: 0.8072 - val_loss: 0.4150 - val_accuracy: 0.8046\n",
            "Epoch 5/50\n",
            "520/520 [==============================] - 2s 3ms/step - loss: 0.4192 - accuracy: 0.8072 - val_loss: 0.4120 - val_accuracy: 0.8054\n",
            "Epoch 6/50\n",
            "520/520 [==============================] - 2s 3ms/step - loss: 0.4169 - accuracy: 0.8072 - val_loss: 0.4098 - val_accuracy: 0.8054\n",
            "Epoch 7/50\n",
            "520/520 [==============================] - 2s 3ms/step - loss: 0.4150 - accuracy: 0.8078 - val_loss: 0.4073 - val_accuracy: 0.8054\n",
            "Epoch 8/50\n",
            "520/520 [==============================] - 2s 3ms/step - loss: 0.4128 - accuracy: 0.8082 - val_loss: 0.4051 - val_accuracy: 0.8077\n",
            "Epoch 9/50\n",
            "520/520 [==============================] - 2s 3ms/step - loss: 0.4108 - accuracy: 0.8093 - val_loss: 0.4027 - val_accuracy: 0.8100\n",
            "Epoch 10/50\n",
            "520/520 [==============================] - 2s 3ms/step - loss: 0.4085 - accuracy: 0.8091 - val_loss: 0.4009 - val_accuracy: 0.8069\n",
            "Epoch 11/50\n",
            "520/520 [==============================] - 2s 3ms/step - loss: 0.4074 - accuracy: 0.8085 - val_loss: 0.3998 - val_accuracy: 0.8062\n",
            "Epoch 12/50\n",
            "520/520 [==============================] - 2s 3ms/step - loss: 0.4063 - accuracy: 0.8120 - val_loss: 0.3991 - val_accuracy: 0.8069\n",
            "Epoch 13/50\n",
            "520/520 [==============================] - 2s 3ms/step - loss: 0.4053 - accuracy: 0.8107 - val_loss: 0.3985 - val_accuracy: 0.8085\n",
            "Epoch 14/50\n",
            "520/520 [==============================] - 1s 3ms/step - loss: 0.4046 - accuracy: 0.8116 - val_loss: 0.3979 - val_accuracy: 0.8069\n",
            "Epoch 15/50\n",
            "520/520 [==============================] - 2s 3ms/step - loss: 0.4040 - accuracy: 0.8132 - val_loss: 0.3974 - val_accuracy: 0.8085\n",
            "Epoch 16/50\n",
            "520/520 [==============================] - 2s 3ms/step - loss: 0.4031 - accuracy: 0.8151 - val_loss: 0.3980 - val_accuracy: 0.8054\n",
            "Epoch 17/50\n",
            "520/520 [==============================] - 2s 3ms/step - loss: 0.4028 - accuracy: 0.8143 - val_loss: 0.3966 - val_accuracy: 0.8100\n",
            "Epoch 18/50\n",
            "520/520 [==============================] - 2s 3ms/step - loss: 0.4024 - accuracy: 0.8141 - val_loss: 0.3962 - val_accuracy: 0.8131\n",
            "Epoch 19/50\n",
            "520/520 [==============================] - 1s 3ms/step - loss: 0.4020 - accuracy: 0.8153 - val_loss: 0.3960 - val_accuracy: 0.8162\n",
            "Epoch 20/50\n",
            "520/520 [==============================] - 2s 3ms/step - loss: 0.4015 - accuracy: 0.8155 - val_loss: 0.3959 - val_accuracy: 0.8177\n",
            "Epoch 21/50\n",
            "520/520 [==============================] - 2s 3ms/step - loss: 0.4013 - accuracy: 0.8164 - val_loss: 0.3954 - val_accuracy: 0.8146\n",
            "Epoch 22/50\n",
            "520/520 [==============================] - 1s 3ms/step - loss: 0.4008 - accuracy: 0.8168 - val_loss: 0.3955 - val_accuracy: 0.8115\n",
            "Epoch 23/50\n",
            "520/520 [==============================] - 2s 3ms/step - loss: 0.4006 - accuracy: 0.8176 - val_loss: 0.3950 - val_accuracy: 0.8146\n",
            "Epoch 24/50\n",
            "520/520 [==============================] - 1s 3ms/step - loss: 0.4003 - accuracy: 0.8174 - val_loss: 0.3946 - val_accuracy: 0.8169\n",
            "Epoch 25/50\n",
            "520/520 [==============================] - 2s 3ms/step - loss: 0.3999 - accuracy: 0.8176 - val_loss: 0.3949 - val_accuracy: 0.8146\n",
            "Epoch 26/50\n",
            "520/520 [==============================] - 1s 3ms/step - loss: 0.3996 - accuracy: 0.8185 - val_loss: 0.3947 - val_accuracy: 0.8154\n",
            "Epoch 27/50\n",
            "520/520 [==============================] - 1s 3ms/step - loss: 0.3993 - accuracy: 0.8187 - val_loss: 0.3938 - val_accuracy: 0.8185\n",
            "Epoch 28/50\n",
            "520/520 [==============================] - 2s 3ms/step - loss: 0.3992 - accuracy: 0.8185 - val_loss: 0.3937 - val_accuracy: 0.8185\n",
            "Epoch 29/50\n",
            "520/520 [==============================] - 1s 3ms/step - loss: 0.3990 - accuracy: 0.8195 - val_loss: 0.3939 - val_accuracy: 0.8154\n",
            "Epoch 30/50\n",
            "520/520 [==============================] - 2s 3ms/step - loss: 0.3987 - accuracy: 0.8197 - val_loss: 0.3935 - val_accuracy: 0.8177\n",
            "Epoch 31/50\n",
            "520/520 [==============================] - 2s 3ms/step - loss: 0.3984 - accuracy: 0.8195 - val_loss: 0.3933 - val_accuracy: 0.8177\n",
            "Epoch 32/50\n",
            "520/520 [==============================] - 2s 3ms/step - loss: 0.3981 - accuracy: 0.8197 - val_loss: 0.3932 - val_accuracy: 0.8192\n",
            "41/41 [==============================] - 0s 2ms/step\n",
            "130/130 [==============================] - 0s 2ms/step - loss: 0.3938 - accuracy: 0.8185\n",
            "Test score: 0.3937605619430542\n",
            "Test accuracy: 81.8461537361145\n",
            "163/163 [==============================] - 0s 2ms/step\n"
          ]
        }
      ]
    },
    {
      "cell_type": "markdown",
      "source": [
        "# DT"
      ],
      "metadata": {
        "id": "sq6ylfVQs8Rs"
      },
      "id": "sq6ylfVQs8Rs"
    },
    {
      "cell_type": "code",
      "source": [
        "from sklearn.metrics import classification_report\n",
        "from sklearn import tree\n",
        "from sklearn.tree import DecisionTreeClassifier\n",
        "model1 = DecisionTreeClassifier(max_depth = 2 , random_state = 0)\n",
        "model1.fit(x_train, y_train)"
      ],
      "metadata": {
        "id": "7SjA04OIucjz",
        "colab": {
          "base_uri": "https://localhost:8080/"
        },
        "outputId": "19feba5f-79bd-4871-b20e-a49ca6b8f6f3"
      },
      "id": "7SjA04OIucjz",
      "execution_count": null,
      "outputs": [
        {
          "output_type": "execute_result",
          "data": {
            "text/plain": [
              "DecisionTreeClassifier(max_depth=2, random_state=0)"
            ]
          },
          "metadata": {},
          "execution_count": 119
        }
      ]
    },
    {
      "cell_type": "code",
      "source": [
        "tree.plot_tree(model1)"
      ],
      "metadata": {
        "id": "hWS12MvoDlhZ",
        "colab": {
          "base_uri": "https://localhost:8080/",
          "height": 367
        },
        "outputId": "7dcd5a72-0494-4a96-ab95-e89f54793e9c"
      },
      "id": "hWS12MvoDlhZ",
      "execution_count": null,
      "outputs": [
        {
          "output_type": "execute_result",
          "data": {
            "text/plain": [
              "[Text(0.5, 0.8333333333333334, 'X[6] <= 11.575\\ngini = 0.316\\nsamples = 5197\\nvalue = [4173, 1024]'),\n",
              " Text(0.25, 0.5, 'X[6] <= 10.625\\ngini = 0.222\\nsamples = 4167\\nvalue = [3637, 530]'),\n",
              " Text(0.125, 0.16666666666666666, 'gini = 0.153\\nsamples = 3089\\nvalue = [2832, 257]'),\n",
              " Text(0.375, 0.16666666666666666, 'gini = 0.378\\nsamples = 1078\\nvalue = [805, 273]'),\n",
              " Text(0.75, 0.5, 'X[6] <= 12.55\\ngini = 0.499\\nsamples = 1030\\nvalue = [536, 494]'),\n",
              " Text(0.625, 0.16666666666666666, 'gini = 0.49\\nsamples = 691\\nvalue = [395, 296]'),\n",
              " Text(0.875, 0.16666666666666666, 'gini = 0.486\\nsamples = 339\\nvalue = [141, 198]')]"
            ]
          },
          "metadata": {},
          "execution_count": 120
        },
        {
          "output_type": "display_data",
          "data": {
            "text/plain": [
              "<Figure size 432x288 with 1 Axes>"
            ],
            "image/png": "[encoded data removed]"
          },
          "metadata": {
            "needs_background": "light"
          }
        }
      ]
    },
    {
      "cell_type": "code",
      "source": [
        "fn = list(X.columns.values)\n",
        "print(fn)\n",
        "cn = list('goodquality')\n",
        "print(cn)"
      ],
      "metadata": {
        "id": "ZmzdGNa0EgpD",
        "colab": {
          "base_uri": "https://localhost:8080/"
        },
        "outputId": "c3161f02-048e-40a1-862e-37e732bfb347"
      },
      "id": "ZmzdGNa0EgpD",
      "execution_count": null,
      "outputs": [
        {
          "output_type": "stream",
          "name": "stdout",
          "text": [
            "['volatile acidity', 'residual sugar', 'chlorides', 'total sulfur dioxide', 'density', 'sulphates', 'alcohol']\n",
            "['g', 'o', 'o', 'd', 'q', 'u', 'a', 'l', 'i', 't', 'y']\n"
          ]
        }
      ]
    },
    {
      "cell_type": "code",
      "source": [
        "tree.export_graphviz(model1,\n",
        "                     out_file=\"tree.dot\",\n",
        "                     feature_names = fn, \n",
        "                     class_names=cn,\n",
        "                     filled = True)"
      ],
      "metadata": {
        "id": "5FdHrSOYD4sh"
      },
      "id": "5FdHrSOYD4sh",
      "execution_count": null,
      "outputs": []
    },
    {
      "cell_type": "code",
      "source": [
        "y_pred1 = model1.predict(x_test)\n",
        "print(classification_report(y_test, y_pred1))"
      ],
      "metadata": {
        "id": "cW6GdF4MDlfG",
        "colab": {
          "base_uri": "https://localhost:8080/"
        },
        "outputId": "58de1d3c-2dde-4e5d-bca0-d38cf8162d8a"
      },
      "id": "cW6GdF4MDlfG",
      "execution_count": null,
      "outputs": [
        {
          "output_type": "stream",
          "name": "stdout",
          "text": [
            "              precision    recall  f1-score   support\n",
            "\n",
            "           0       0.84      0.97      0.90      1047\n",
            "           1       0.64      0.22      0.32       253\n",
            "\n",
            "    accuracy                           0.82      1300\n",
            "   macro avg       0.74      0.59      0.61      1300\n",
            "weighted avg       0.80      0.82      0.79      1300\n",
            "\n"
          ]
        }
      ]
    },
    {
      "cell_type": "code",
      "source": [
        "y_test"
      ],
      "metadata": {
        "colab": {
          "base_uri": "https://localhost:8080/"
        },
        "id": "_ds_4MZKmsKT",
        "outputId": "e980041b-7cd6-4aa9-bfc6-017721d186f6"
      },
      "id": "_ds_4MZKmsKT",
      "execution_count": null,
      "outputs": [
        {
          "output_type": "execute_result",
          "data": {
            "text/plain": [
              "3103    1\n",
              "1419    1\n",
              "4761    0\n",
              "4690    0\n",
              "4032    0\n",
              "       ..\n",
              "889     1\n",
              "2850    0\n",
              "4917    0\n",
              "5198    0\n",
              "5643    0\n",
              "Name: goodquality, Length: 1300, dtype: int64"
            ]
          },
          "metadata": {},
          "execution_count": 124
        }
      ]
    },
    {
      "cell_type": "code",
      "source": [
        "accuracy = accuracy_score(y_test, y_pred1)\n",
        "print(accuracy)\n",
        "confusion_matrix = metrics.confusion_matrix(y_test, y_pred1)\n",
        "cm_display = metrics.ConfusionMatrixDisplay(confusion_matrix = confusion_matrix, display_labels = [0, 1])\n",
        "cm_display.plot()\n",
        "plt.show()"
      ],
      "metadata": {
        "id": "QgB3FGiObVM4",
        "colab": {
          "base_uri": "https://localhost:8080/",
          "height": 297
        },
        "outputId": "683212d7-1313-4a79-cb75-ee7580e59af8"
      },
      "id": "QgB3FGiObVM4",
      "execution_count": null,
      "outputs": [
        {
          "output_type": "stream",
          "name": "stdout",
          "text": [
            "0.8238461538461539\n"
          ]
        },
        {
          "output_type": "display_data",
          "data": {
            "text/plain": [
              "<Figure size 432x288 with 2 Axes>"
            ],
            "image/png": "[encoded data removed]"
          },
          "metadata": {
            "needs_background": "light"
          }
        }
      ]
    },
    {
      "cell_type": "markdown",
      "source": [
        "# logistic regression"
      ],
      "metadata": {
        "id": "FJEf1HVNehZO"
      },
      "id": "FJEf1HVNehZO"
    },
    {
      "cell_type": "code",
      "source": [
        "model = LogisticRegression()\n",
        "\n",
        "model.fit(x_train, y_train)\n",
        "\n",
        "y_pred = model.predict(x_test)\n",
        "\n",
        "print(\"Testing accuracy :\", model.score(x_test, y_test))"
      ],
      "metadata": {
        "id": "KpzZKXdCDlcm",
        "colab": {
          "base_uri": "https://localhost:8080/"
        },
        "outputId": "71a19ebf-d1de-4cb9-b182-29f1f1d42ade"
      },
      "id": "KpzZKXdCDlcm",
      "execution_count": null,
      "outputs": [
        {
          "output_type": "stream",
          "name": "stdout",
          "text": [
            "Testing accuracy : 0.82\n"
          ]
        },
        {
          "output_type": "stream",
          "name": "stderr",
          "text": [
            "/usr/local/lib/python3.7/dist-packages/sklearn/linear_model/_logistic.py:818: ConvergenceWarning: lbfgs failed to converge (status=1):\n",
            "STOP: TOTAL NO. of ITERATIONS REACHED LIMIT.\n",
            "\n",
            "Increase the number of iterations (max_iter) or scale the data as shown in:\n",
            "    https://scikit-learn.org/stable/modules/preprocessing.html\n",
            "Please also refer to the documentation for alternative solver options:\n",
            "    https://scikit-learn.org/stable/modules/linear_model.html#logistic-regression\n",
            "  extra_warning_msg=_LOGISTIC_SOLVER_CONVERGENCE_MSG,\n"
          ]
        }
      ]
    },
    {
      "cell_type": "markdown",
      "source": [
        "# XGBoost"
      ],
      "metadata": {
        "id": "mQjqOLnVewej"
      },
      "id": "mQjqOLnVewej"
    },
    {
      "cell_type": "code",
      "source": [
        "model = XGBClassifier(use_label_encoder=False, eval_metric='mlogloss')\n",
        "model.fit(x_train, y_train)\n",
        "XGBClassifier(base_score=0.5, booster='gbtree', colsample_bylevel=1,\n",
        "              colsample_bynode=1, colsample_bytree=1, eval_metric='mlogloss',\n",
        "              gamma=0, gpu_id=-1, importance_type='gain',\n",
        "              interaction_constraints='', learning_rate=0.300000012,\n",
        "              max_delta_step=0, max_depth=6, min_child_weight=1, missing=-1,\n",
        "              monotone_constraints='()', n_estimators=100, n_jobs=16,\n",
        "              num_parallel_tree=1, objective='multi:softprob', random_state=0,\n",
        "              reg_alpha=0, reg_lambda=1, scale_pos_weight=None, subsample=1,\n",
        "              tree_method='exact', use_label_encoder=False,\n",
        "              validate_parameters=1, verbosity=None)\n",
        "y_pred = model.predict(x_test)\n",
        "accuracy = accuracy_score(y_test, y_pred)\n",
        "accuracy"
      ],
      "metadata": {
        "id": "21Vm_zfEucgt",
        "colab": {
          "base_uri": "https://localhost:8080/"
        },
        "outputId": "01926750-9166-4ffc-a7d8-c019f19874bd"
      },
      "id": "21Vm_zfEucgt",
      "execution_count": null,
      "outputs": [
        {
          "output_type": "execute_result",
          "data": {
            "text/plain": [
              "0.8353846153846154"
            ]
          },
          "metadata": {},
          "execution_count": 127
        }
      ]
    },
    {
      "cell_type": "markdown",
      "source": [
        "## Working on peer review suggestion"
      ],
      "metadata": {
        "id": "_--I78Py3A6_"
      },
      "id": "_--I78Py3A6_"
    },
    {
      "cell_type": "code",
      "source": [
        "max = df['quality'].max()\n",
        "max\n",
        "min = df['quality'].min()\n",
        "min\n",
        "df['relative_quality'] = df.apply(lambda x: (((x['quality']-min)/(max-min))*(10-1))+1 , axis=1)"
      ],
      "metadata": {
        "id": "rNNj2sSqfh3A"
      },
      "id": "rNNj2sSqfh3A",
      "execution_count": 15,
      "outputs": []
    },
    {
      "cell_type": "code",
      "source": [
        "df"
      ],
      "metadata": {
        "colab": {
          "base_uri": "https://localhost:8080/",
          "height": 517
        },
        "id": "WikwNSft3JU6",
        "outputId": "d2c633b4-b336-4423-dea7-e5e6016a5b76"
      },
      "id": "WikwNSft3JU6",
      "execution_count": 16,
      "outputs": [
        {
          "output_type": "execute_result",
          "data": {
            "text/plain": [
              "      Label   type  fixed acidity  volatile acidity  citric acid  \\\n",
              "0         0  white            7.0             0.270         0.36   \n",
              "1         0  white            6.3             0.300         0.34   \n",
              "2         0  white            8.1             0.280         0.40   \n",
              "3         0  white            7.2             0.230         0.32   \n",
              "4         0  white            7.2             0.230         0.32   \n",
              "...     ...    ...            ...               ...          ...   \n",
              "6492      1    red            6.2             0.600         0.08   \n",
              "6493      1    red            5.9             0.550         0.10   \n",
              "6494      1    red            6.3             0.510         0.13   \n",
              "6495      1    red            5.9             0.645         0.12   \n",
              "6496      1    red            6.0             0.310         0.47   \n",
              "\n",
              "      residual sugar  chlorides  free sulfur dioxide  total sulfur dioxide  \\\n",
              "0               20.7      0.045                 45.0                 170.0   \n",
              "1                1.6      0.049                 14.0                 132.0   \n",
              "2                6.9      0.050                 30.0                  97.0   \n",
              "3                8.5      0.058                 47.0                 186.0   \n",
              "4                8.5      0.058                 47.0                 186.0   \n",
              "...              ...        ...                  ...                   ...   \n",
              "6492             2.0      0.090                 32.0                  44.0   \n",
              "6493             2.2      0.062                 39.0                  51.0   \n",
              "6494             2.3      0.076                 29.0                  40.0   \n",
              "6495             2.0      0.075                 32.0                  44.0   \n",
              "6496             3.6      0.067                 18.0                  42.0   \n",
              "\n",
              "      density    pH  sulphates  alcohol  quality  relative_quality  \n",
              "0     1.00100  3.00       0.45      8.8        6               5.5  \n",
              "1     0.99400  3.30       0.49      9.5        6               5.5  \n",
              "2     0.99510  3.26       0.44     10.1        6               5.5  \n",
              "3     0.99560  3.19       0.40      9.9        6               5.5  \n",
              "4     0.99560  3.19       0.40      9.9        6               5.5  \n",
              "...       ...   ...        ...      ...      ...               ...  \n",
              "6492  0.99490  3.45       0.58     10.5        5               4.0  \n",
              "6493  0.99512  3.52       0.76     11.2        6               5.5  \n",
              "6494  0.99574  3.42       0.75     11.0        6               5.5  \n",
              "6495  0.99547  3.57       0.71     10.2        5               4.0  \n",
              "6496  0.99549  3.39       0.66     11.0        6               5.5  \n",
              "\n",
              "[6497 rows x 15 columns]"
            ],
            "text/html": [
              "\n",
              "  <div id=\"df-657fb638-ceae-471a-85fe-eef4573ad5aa\">\n",
              "    <div class=\"colab-df-container\">\n",
              "      <div>\n",
              "<style scoped>\n",
              "    .dataframe tbody tr th:only-of-type {\n",
              "        vertical-align: middle;\n",
              "    }\n",
              "\n",
              "    .dataframe tbody tr th {\n",
              "        vertical-align: top;\n",
              "    }\n",
              "\n",
              "    .dataframe thead th {\n",
              "        text-align: right;\n",
              "    }\n",
              "</style>\n",
              "<table border=\"1\" class=\"dataframe\">\n",
              "  <thead>\n",
              "    <tr style=\"text-align: right;\">\n",
              "      <th></th>\n",
              "      <th>Label</th>\n",
              "      <th>type</th>\n",
              "      <th>fixed acidity</th>\n",
              "      <th>volatile acidity</th>\n",
              "      <th>citric acid</th>\n",
              "      <th>residual sugar</th>\n",
              "      <th>chlorides</th>\n",
              "      <th>free sulfur dioxide</th>\n",
              "      <th>total sulfur dioxide</th>\n",
              "      <th>density</th>\n",
              "      <th>pH</th>\n",
              "      <th>sulphates</th>\n",
              "      <th>alcohol</th>\n",
              "      <th>quality</th>\n",
              "      <th>relative_quality</th>\n",
              "    </tr>\n",
              "  </thead>\n",
              "  <tbody>\n",
              "    <tr>\n",
              "      <th>0</th>\n",
              "      <td>0</td>\n",
              "      <td>white</td>\n",
              "      <td>7.0</td>\n",
              "      <td>0.270</td>\n",
              "      <td>0.36</td>\n",
              "      <td>20.7</td>\n",
              "      <td>0.045</td>\n",
              "      <td>45.0</td>\n",
              "      <td>170.0</td>\n",
              "      <td>1.00100</td>\n",
              "      <td>3.00</td>\n",
              "      <td>0.45</td>\n",
              "      <td>8.8</td>\n",
              "      <td>6</td>\n",
              "      <td>5.5</td>\n",
              "    </tr>\n",
              "    <tr>\n",
              "      <th>1</th>\n",
              "      <td>0</td>\n",
              "      <td>white</td>\n",
              "      <td>6.3</td>\n",
              "      <td>0.300</td>\n",
              "      <td>0.34</td>\n",
              "      <td>1.6</td>\n",
              "      <td>0.049</td>\n",
              "      <td>14.0</td>\n",
              "      <td>132.0</td>\n",
              "      <td>0.99400</td>\n",
              "      <td>3.30</td>\n",
              "      <td>0.49</td>\n",
              "      <td>9.5</td>\n",
              "      <td>6</td>\n",
              "      <td>5.5</td>\n",
              "    </tr>\n",
              "    <tr>\n",
              "      <th>2</th>\n",
              "      <td>0</td>\n",
              "      <td>white</td>\n",
              "      <td>8.1</td>\n",
              "      <td>0.280</td>\n",
              "      <td>0.40</td>\n",
              "      <td>6.9</td>\n",
              "      <td>0.050</td>\n",
              "      <td>30.0</td>\n",
              "      <td>97.0</td>\n",
              "      <td>0.99510</td>\n",
              "      <td>3.26</td>\n",
              "      <td>0.44</td>\n",
              "      <td>10.1</td>\n",
              "      <td>6</td>\n",
              "      <td>5.5</td>\n",
              "    </tr>\n",
              "    <tr>\n",
              "      <th>3</th>\n",
              "      <td>0</td>\n",
              "      <td>white</td>\n",
              "      <td>7.2</td>\n",
              "      <td>0.230</td>\n",
              "      <td>0.32</td>\n",
              "      <td>8.5</td>\n",
              "      <td>0.058</td>\n",
              "      <td>47.0</td>\n",
              "      <td>186.0</td>\n",
              "      <td>0.99560</td>\n",
              "      <td>3.19</td>\n",
              "      <td>0.40</td>\n",
              "      <td>9.9</td>\n",
              "      <td>6</td>\n",
              "      <td>5.5</td>\n",
              "    </tr>\n",
              "    <tr>\n",
              "      <th>4</th>\n",
              "      <td>0</td>\n",
              "      <td>white</td>\n",
              "      <td>7.2</td>\n",
              "      <td>0.230</td>\n",
              "      <td>0.32</td>\n",
              "      <td>8.5</td>\n",
              "      <td>0.058</td>\n",
              "      <td>47.0</td>\n",
              "      <td>186.0</td>\n",
              "      <td>0.99560</td>\n",
              "      <td>3.19</td>\n",
              "      <td>0.40</td>\n",
              "      <td>9.9</td>\n",
              "      <td>6</td>\n",
              "      <td>5.5</td>\n",
              "    </tr>\n",
              "    <tr>\n",
              "      <th>...</th>\n",
              "      <td>...</td>\n",
              "      <td>...</td>\n",
              "      <td>...</td>\n",
              "      <td>...</td>\n",
              "      <td>...</td>\n",
              "      <td>...</td>\n",
              "      <td>...</td>\n",
              "      <td>...</td>\n",
              "      <td>...</td>\n",
              "      <td>...</td>\n",
              "      <td>...</td>\n",
              "      <td>...</td>\n",
              "      <td>...</td>\n",
              "      <td>...</td>\n",
              "      <td>...</td>\n",
              "    </tr>\n",
              "    <tr>\n",
              "      <th>6492</th>\n",
              "      <td>1</td>\n",
              "      <td>red</td>\n",
              "      <td>6.2</td>\n",
              "      <td>0.600</td>\n",
              "      <td>0.08</td>\n",
              "      <td>2.0</td>\n",
              "      <td>0.090</td>\n",
              "      <td>32.0</td>\n",
              "      <td>44.0</td>\n",
              "      <td>0.99490</td>\n",
              "      <td>3.45</td>\n",
              "      <td>0.58</td>\n",
              "      <td>10.5</td>\n",
              "      <td>5</td>\n",
              "      <td>4.0</td>\n",
              "    </tr>\n",
              "    <tr>\n",
              "      <th>6493</th>\n",
              "      <td>1</td>\n",
              "      <td>red</td>\n",
              "      <td>5.9</td>\n",
              "      <td>0.550</td>\n",
              "      <td>0.10</td>\n",
              "      <td>2.2</td>\n",
              "      <td>0.062</td>\n",
              "      <td>39.0</td>\n",
              "      <td>51.0</td>\n",
              "      <td>0.99512</td>\n",
              "      <td>3.52</td>\n",
              "      <td>0.76</td>\n",
              "      <td>11.2</td>\n",
              "      <td>6</td>\n",
              "      <td>5.5</td>\n",
              "    </tr>\n",
              "    <tr>\n",
              "      <th>6494</th>\n",
              "      <td>1</td>\n",
              "      <td>red</td>\n",
              "      <td>6.3</td>\n",
              "      <td>0.510</td>\n",
              "      <td>0.13</td>\n",
              "      <td>2.3</td>\n",
              "      <td>0.076</td>\n",
              "      <td>29.0</td>\n",
              "      <td>40.0</td>\n",
              "      <td>0.99574</td>\n",
              "      <td>3.42</td>\n",
              "      <td>0.75</td>\n",
              "      <td>11.0</td>\n",
              "      <td>6</td>\n",
              "      <td>5.5</td>\n",
              "    </tr>\n",
              "    <tr>\n",
              "      <th>6495</th>\n",
              "      <td>1</td>\n",
              "      <td>red</td>\n",
              "      <td>5.9</td>\n",
              "      <td>0.645</td>\n",
              "      <td>0.12</td>\n",
              "      <td>2.0</td>\n",
              "      <td>0.075</td>\n",
              "      <td>32.0</td>\n",
              "      <td>44.0</td>\n",
              "      <td>0.99547</td>\n",
              "      <td>3.57</td>\n",
              "      <td>0.71</td>\n",
              "      <td>10.2</td>\n",
              "      <td>5</td>\n",
              "      <td>4.0</td>\n",
              "    </tr>\n",
              "    <tr>\n",
              "      <th>6496</th>\n",
              "      <td>1</td>\n",
              "      <td>red</td>\n",
              "      <td>6.0</td>\n",
              "      <td>0.310</td>\n",
              "      <td>0.47</td>\n",
              "      <td>3.6</td>\n",
              "      <td>0.067</td>\n",
              "      <td>18.0</td>\n",
              "      <td>42.0</td>\n",
              "      <td>0.99549</td>\n",
              "      <td>3.39</td>\n",
              "      <td>0.66</td>\n",
              "      <td>11.0</td>\n",
              "      <td>6</td>\n",
              "      <td>5.5</td>\n",
              "    </tr>\n",
              "  </tbody>\n",
              "</table>\n",
              "<p>6497 rows × 15 columns</p>\n",
              "</div>\n",
              "      <button class=\"colab-df-convert\" onclick=\"convertToInteractive('df-657fb638-ceae-471a-85fe-eef4573ad5aa')\"\n",
              "              title=\"Convert this dataframe to an interactive table.\"\n",
              "              style=\"display:none;\">\n",
              "        \n",
              "  <svg xmlns=\"http://www.w3.org/2000/svg\" height=\"24px\"viewBox=\"0 0 24 24\"\n",
              "       width=\"24px\">\n",
              "    <path d=\"M0 0h24v24H0V0z\" fill=\"none\"/>\n",
              "    <path d=\"M18.56 5.44l.94 2.06.94-2.06 2.06-.94-2.06-.94-.94-2.06-.94 2.06-2.06.94zm-11 1L8.5 8.5l.94-2.06 2.06-.94-2.06-.94L8.5 2.5l-.94 2.06-2.06.94zm10 10l.94 2.06.94-2.06 2.06-.94-2.06-.94-.94-2.06-.94 2.06-2.06.94z\"/><path d=\"M17.41 7.96l-1.37-1.37c-.4-.4-.92-.59-1.43-.59-.52 0-1.04.2-1.43.59L10.3 9.45l-7.72 7.72c-.78.78-.78 2.05 0 2.83L4 21.41c.39.39.9.59 1.41.59.51 0 1.02-.2 1.41-.59l7.78-7.78 2.81-2.81c.8-.78.8-2.07 0-2.86zM5.41 20L4 18.59l7.72-7.72 1.47 1.35L5.41 20z\"/>\n",
              "  </svg>\n",
              "      </button>\n",
              "      \n",
              "  <style>\n",
              "    .colab-df-container {\n",
              "      display:flex;\n",
              "      flex-wrap:wrap;\n",
              "      gap: 12px;\n",
              "    }\n",
              "\n",
              "    .colab-df-convert {\n",
              "      background-color: #E8F0FE;\n",
              "      border: none;\n",
              "      border-radius: 50%;\n",
              "      cursor: pointer;\n",
              "      display: none;\n",
              "      fill: #1967D2;\n",
              "      height: 32px;\n",
              "      padding: 0 0 0 0;\n",
              "      width: 32px;\n",
              "    }\n",
              "\n",
              "    .colab-df-convert:hover {\n",
              "      background-color: #E2EBFA;\n",
              "      box-shadow: 0px 1px 2px rgba(60, 64, 67, 0.3), 0px 1px 3px 1px rgba(60, 64, 67, 0.15);\n",
              "      fill: #174EA6;\n",
              "    }\n",
              "\n",
              "    [theme=dark] .colab-df-convert {\n",
              "      background-color: #3B4455;\n",
              "      fill: #D2E3FC;\n",
              "    }\n",
              "\n",
              "    [theme=dark] .colab-df-convert:hover {\n",
              "      background-color: #434B5C;\n",
              "      box-shadow: 0px 1px 3px 1px rgba(0, 0, 0, 0.15);\n",
              "      filter: drop-shadow(0px 1px 2px rgba(0, 0, 0, 0.3));\n",
              "      fill: #FFFFFF;\n",
              "    }\n",
              "  </style>\n",
              "\n",
              "      <script>\n",
              "        const buttonEl =\n",
              "          document.querySelector('#df-657fb638-ceae-471a-85fe-eef4573ad5aa button.colab-df-convert');\n",
              "        buttonEl.style.display =\n",
              "          google.colab.kernel.accessAllowed ? 'block' : 'none';\n",
              "\n",
              "        async function convertToInteractive(key) {\n",
              "          const element = document.querySelector('#df-657fb638-ceae-471a-85fe-eef4573ad5aa');\n",
              "          const dataTable =\n",
              "            await google.colab.kernel.invokeFunction('convertToInteractive',\n",
              "                                                     [key], {});\n",
              "          if (!dataTable) return;\n",
              "\n",
              "          const docLinkHtml = 'Like what you see? Visit the ' +\n",
              "            '<a target=\"_blank\" href=https://colab.research.google.com/notebooks/data_table.ipynb>data table notebook</a>'\n",
              "            + ' to learn more about interactive tables.';\n",
              "          element.innerHTML = '';\n",
              "          dataTable['output_type'] = 'display_data';\n",
              "          await google.colab.output.renderOutput(dataTable, element);\n",
              "          const docLink = document.createElement('div');\n",
              "          docLink.innerHTML = docLinkHtml;\n",
              "          element.appendChild(docLink);\n",
              "        }\n",
              "      </script>\n",
              "    </div>\n",
              "  </div>\n",
              "  "
            ]
          },
          "metadata": {},
          "execution_count": 16
        }
      ]
    },
    {
      "cell_type": "code",
      "source": [],
      "metadata": {
        "id": "m269zLNB4lBc"
      },
      "id": "m269zLNB4lBc",
      "execution_count": null,
      "outputs": []
    }
  ],
  "metadata": {
    "kernelspec": {
      "display_name": "Python 3 (ipykernel)",
      "language": "python",
      "name": "python3"
    },
    "language_info": {
      "codemirror_mode": {
        "name": "ipython",
        "version": 3
      },
      "file_extension": ".py",
      "mimetype": "text/x-python",
      "name": "python",
      "nbconvert_exporter": "python",
      "pygments_lexer": "ipython3",
      "version": "3.9.12"
    },
    "colab": {
      "provenance": [],
      "collapsed_sections": []
    }
  },
  "nbformat": 4,
  "nbformat_minor": 5
}